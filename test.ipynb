{
 "metadata": {
  "language_info": {
   "codemirror_mode": {
    "name": "ipython",
    "version": 3
   },
   "file_extension": ".py",
   "mimetype": "text/x-python",
   "name": "python",
   "nbconvert_exporter": "python",
   "pygments_lexer": "ipython3",
   "version": "3.8.3-final"
  },
  "orig_nbformat": 2,
  "kernelspec": {
   "name": "python3",
   "display_name": "Python 3.8.3 64-bit",
   "metadata": {
    "interpreter": {
     "hash": "025ed236213ccfffaec5d2689b3761b9e5909be0d24f951198280e551f789eef"
    }
   }
  }
 },
 "nbformat": 4,
 "nbformat_minor": 2,
 "cells": [
  {
   "source": [
    "### This test file shows the basics of using pull requests from websites to obtain data and using these data for analysis"
   ],
   "cell_type": "markdown",
   "metadata": {}
  },
  {
   "source": [
    "**Load the necessary libraries**"
   ],
   "cell_type": "markdown",
   "metadata": {}
  },
  {
   "cell_type": "code",
   "execution_count": 1,
   "metadata": {},
   "outputs": [],
   "source": [
    "from IPython.display import HTML\n",
    "import requests\n",
    "import json\n",
    "import pandas as pd\n",
    "import numpy as np\n",
    "import datetime"
   ]
  },
  {
   "source": [
    "Define our the extractor. Can change the arguments, to make it more flexible. Currently is set to m3 (3 months) and looking at \"ibm\" -> \"id\": \"ibm%3Aus\""
   ],
   "cell_type": "markdown",
   "metadata": {}
  },
  {
   "cell_type": "code",
   "execution_count": 3,
   "metadata": {},
   "outputs": [],
   "source": [
    "def extract_ticks(interval=\"m3\"):\n",
    "    url = \"https://bloomberg-market-and-financial-news.p.rapidapi.com/market/get-chart\"\n",
    "    querystring = {\"interval\": interval, \"id\": \"ibm%3Aus\"}\n",
    "    headers = {\n",
    "        'x-rapidapi-host': \"bloomberg-market-and-financial-news.p.rapidapi.com\",\n",
    "        'x-rapidapi-key': \"ec7cf83d7amsh28327258127105bp16fa52jsn9cf67d1e4463\"\n",
    "    }\n",
    "    response = requests.request(\n",
    "        \"GET\", url, headers=headers, params=querystring)\n",
    "    json_d = response.json()\n",
    "    return json_d"
   ]
  },
  {
   "source": [
    "Save the data we got from the GET reqeuest"
   ],
   "cell_type": "markdown",
   "metadata": {}
  },
  {
   "cell_type": "code",
   "execution_count": 4,
   "metadata": {},
   "outputs": [],
   "source": [
    "json_d = extract_ticks()\n",
    "\n",
    "with open(\"ibm_ytd.json\", \"w\") as fp:\n",
    "    json.dump(json_d, fp)"
   ]
  },
  {
   "source": [
    "Load the data that we just saved and use pandas to visualize it. Note that there are 65 rows, with indicate the 65 \"ticks\" we pulled from the request. Each tick represents 1 trading day"
   ],
   "cell_type": "markdown",
   "metadata": {}
  },
  {
   "cell_type": "code",
   "execution_count": 5,
   "metadata": {},
   "outputs": [
    {
     "output_type": "execute_result",
     "data": {
      "text/plain": [
       "             close   volume   Close                Date\n",
       "time                                                   \n",
       "1594126800  117.58  4278307  117.58 2020-07-07 15:00:00\n",
       "1594213200  117.71  5192806  117.71 2020-07-08 15:00:00\n",
       "1594299600  115.71  4762991  115.71 2020-07-09 15:00:00\n",
       "1594386000  118.35  4285705  118.35 2020-07-10 15:00:00\n",
       "1594645200  119.20  4650651  119.20 2020-07-13 15:00:00\n",
       "...            ...      ...     ...                 ...\n",
       "1601470800  121.67  3261235  121.67 2020-09-30 15:00:00\n",
       "1601557200  121.09  3211661  121.09 2020-10-01 15:00:00\n",
       "1601643600  120.57  2925228  120.57 2020-10-02 15:00:00\n",
       "1601902800  122.01  3050949  122.01 2020-10-05 15:00:00\n",
       "1601989200  121.97  3872265  121.97 2020-10-06 15:00:00\n",
       "\n",
       "[65 rows x 4 columns]"
      ],
      "text/html": "<div>\n<style scoped>\n    .dataframe tbody tr th:only-of-type {\n        vertical-align: middle;\n    }\n\n    .dataframe tbody tr th {\n        vertical-align: top;\n    }\n\n    .dataframe thead th {\n        text-align: right;\n    }\n</style>\n<table border=\"1\" class=\"dataframe\">\n  <thead>\n    <tr style=\"text-align: right;\">\n      <th></th>\n      <th>close</th>\n      <th>volume</th>\n      <th>Close</th>\n      <th>Date</th>\n    </tr>\n    <tr>\n      <th>time</th>\n      <th></th>\n      <th></th>\n      <th></th>\n      <th></th>\n    </tr>\n  </thead>\n  <tbody>\n    <tr>\n      <th>1594126800</th>\n      <td>117.58</td>\n      <td>4278307</td>\n      <td>117.58</td>\n      <td>2020-07-07 15:00:00</td>\n    </tr>\n    <tr>\n      <th>1594213200</th>\n      <td>117.71</td>\n      <td>5192806</td>\n      <td>117.71</td>\n      <td>2020-07-08 15:00:00</td>\n    </tr>\n    <tr>\n      <th>1594299600</th>\n      <td>115.71</td>\n      <td>4762991</td>\n      <td>115.71</td>\n      <td>2020-07-09 15:00:00</td>\n    </tr>\n    <tr>\n      <th>1594386000</th>\n      <td>118.35</td>\n      <td>4285705</td>\n      <td>118.35</td>\n      <td>2020-07-10 15:00:00</td>\n    </tr>\n    <tr>\n      <th>1594645200</th>\n      <td>119.20</td>\n      <td>4650651</td>\n      <td>119.20</td>\n      <td>2020-07-13 15:00:00</td>\n    </tr>\n    <tr>\n      <th>...</th>\n      <td>...</td>\n      <td>...</td>\n      <td>...</td>\n      <td>...</td>\n    </tr>\n    <tr>\n      <th>1601470800</th>\n      <td>121.67</td>\n      <td>3261235</td>\n      <td>121.67</td>\n      <td>2020-09-30 15:00:00</td>\n    </tr>\n    <tr>\n      <th>1601557200</th>\n      <td>121.09</td>\n      <td>3211661</td>\n      <td>121.09</td>\n      <td>2020-10-01 15:00:00</td>\n    </tr>\n    <tr>\n      <th>1601643600</th>\n      <td>120.57</td>\n      <td>2925228</td>\n      <td>120.57</td>\n      <td>2020-10-02 15:00:00</td>\n    </tr>\n    <tr>\n      <th>1601902800</th>\n      <td>122.01</td>\n      <td>3050949</td>\n      <td>122.01</td>\n      <td>2020-10-05 15:00:00</td>\n    </tr>\n    <tr>\n      <th>1601989200</th>\n      <td>121.97</td>\n      <td>3872265</td>\n      <td>121.97</td>\n      <td>2020-10-06 15:00:00</td>\n    </tr>\n  </tbody>\n</table>\n<p>65 rows × 4 columns</p>\n</div>"
     },
     "metadata": {},
     "execution_count": 5
    }
   ],
   "source": [
    "with open(\"ibm_ytd.json\",\"r\") as fp:\n",
    "    json_d = json.load(fp)\n",
    "    \n",
    "ticks_d = json_d['result']['ibm:us']['ticks']\n",
    "df = pd.DataFrame(ticks_d)\n",
    "df['Close'] = df['close']\n",
    "df['Date'] = df['time'].apply(lambda x:datetime.datetime.fromtimestamp(x))\n",
    "df = df.set_index('time')\n",
    "data = df.sort_index(ascending=True, axis=0)\n",
    "data"
   ]
  },
  {
   "source": [
    "clean the data"
   ],
   "cell_type": "markdown",
   "metadata": {}
  },
  {
   "cell_type": "code",
   "execution_count": 6,
   "metadata": {},
   "outputs": [
    {
     "output_type": "execute_result",
     "data": {
      "text/plain": [
       "                     Date   Close\n",
       "index                            \n",
       "0     2020-07-07 15:00:00  117.58\n",
       "1     2020-07-08 15:00:00  117.71\n",
       "2     2020-07-09 15:00:00  115.71\n",
       "3     2020-07-10 15:00:00  118.35\n",
       "4     2020-07-13 15:00:00  119.20\n",
       "...                   ...     ...\n",
       "60    2020-09-30 15:00:00  121.67\n",
       "61    2020-10-01 15:00:00  121.09\n",
       "62    2020-10-02 15:00:00  120.57\n",
       "63    2020-10-05 15:00:00  122.01\n",
       "64    2020-10-06 15:00:00  121.97\n",
       "\n",
       "[65 rows x 2 columns]"
      ],
      "text/html": "<div>\n<style scoped>\n    .dataframe tbody tr th:only-of-type {\n        vertical-align: middle;\n    }\n\n    .dataframe tbody tr th {\n        vertical-align: top;\n    }\n\n    .dataframe thead th {\n        text-align: right;\n    }\n</style>\n<table border=\"1\" class=\"dataframe\">\n  <thead>\n    <tr style=\"text-align: right;\">\n      <th></th>\n      <th>Date</th>\n      <th>Close</th>\n    </tr>\n    <tr>\n      <th>index</th>\n      <th></th>\n      <th></th>\n    </tr>\n  </thead>\n  <tbody>\n    <tr>\n      <th>0</th>\n      <td>2020-07-07 15:00:00</td>\n      <td>117.58</td>\n    </tr>\n    <tr>\n      <th>1</th>\n      <td>2020-07-08 15:00:00</td>\n      <td>117.71</td>\n    </tr>\n    <tr>\n      <th>2</th>\n      <td>2020-07-09 15:00:00</td>\n      <td>115.71</td>\n    </tr>\n    <tr>\n      <th>3</th>\n      <td>2020-07-10 15:00:00</td>\n      <td>118.35</td>\n    </tr>\n    <tr>\n      <th>4</th>\n      <td>2020-07-13 15:00:00</td>\n      <td>119.20</td>\n    </tr>\n    <tr>\n      <th>...</th>\n      <td>...</td>\n      <td>...</td>\n    </tr>\n    <tr>\n      <th>60</th>\n      <td>2020-09-30 15:00:00</td>\n      <td>121.67</td>\n    </tr>\n    <tr>\n      <th>61</th>\n      <td>2020-10-01 15:00:00</td>\n      <td>121.09</td>\n    </tr>\n    <tr>\n      <th>62</th>\n      <td>2020-10-02 15:00:00</td>\n      <td>120.57</td>\n    </tr>\n    <tr>\n      <th>63</th>\n      <td>2020-10-05 15:00:00</td>\n      <td>122.01</td>\n    </tr>\n    <tr>\n      <th>64</th>\n      <td>2020-10-06 15:00:00</td>\n      <td>121.97</td>\n    </tr>\n  </tbody>\n</table>\n<p>65 rows × 2 columns</p>\n</div>"
     },
     "metadata": {},
     "execution_count": 6
    }
   ],
   "source": [
    "new_data = data[['Date','Close']]\n",
    "index = range(0,len(new_data))\n",
    "new_data['index']=index\n",
    "new_data=new_data.set_index('index')\n",
    "new_data['Date'] = pd.to_datetime(new_data.Date,format='%Y-%m-%d')\n",
    "new_data"
   ]
  },
  {
   "source": [
    "Add additional time information, which could have an effect on the stock price"
   ],
   "cell_type": "markdown",
   "metadata": {}
  },
  {
   "cell_type": "code",
   "execution_count": 7,
   "metadata": {},
   "outputs": [
    {
     "output_type": "execute_result",
     "data": {
      "text/plain": [
       "                     Date   Close  month  day  year  quarter  dayofweek  \\\n",
       "index                                                                     \n",
       "0     2020-07-07 15:00:00  117.58      7    7  2020        3          1   \n",
       "1     2020-07-08 15:00:00  117.71      7    8  2020        3          2   \n",
       "2     2020-07-09 15:00:00  115.71      7    9  2020        3          3   \n",
       "3     2020-07-10 15:00:00  118.35      7   10  2020        3          4   \n",
       "4     2020-07-13 15:00:00  119.20      7   13  2020        3          0   \n",
       "...                   ...     ...    ...  ...   ...      ...        ...   \n",
       "60    2020-09-30 15:00:00  121.67      9   30  2020        3          2   \n",
       "61    2020-10-01 15:00:00  121.09     10    1  2020        4          3   \n",
       "62    2020-10-02 15:00:00  120.57     10    2  2020        4          4   \n",
       "63    2020-10-05 15:00:00  122.01     10    5  2020        4          0   \n",
       "64    2020-10-06 15:00:00  121.97     10    6  2020        4          1   \n",
       "\n",
       "       dayofyear  is_month_end  is_month_start  is_quarter_start  \\\n",
       "index                                                              \n",
       "0            189             0               0                 0   \n",
       "1            190             0               0                 0   \n",
       "2            191             0               0                 0   \n",
       "3            192             0               0                 0   \n",
       "4            195             0               0                 0   \n",
       "...          ...           ...             ...               ...   \n",
       "60           274             1               0                 0   \n",
       "61           275             0               1                 1   \n",
       "62           276             0               0                 0   \n",
       "63           279             0               0                 0   \n",
       "64           280             0               0                 0   \n",
       "\n",
       "       is_quarter_end  is_year_start  is_year_end  mon_fri  \n",
       "index                                                       \n",
       "0                   0              0            0        0  \n",
       "1                   0              0            0        0  \n",
       "2                   0              0            0        0  \n",
       "3                   0              0            0        1  \n",
       "4                   0              0            0        1  \n",
       "...               ...            ...          ...      ...  \n",
       "60                  1              0            0        0  \n",
       "61                  0              0            0        0  \n",
       "62                  0              0            0        1  \n",
       "63                  0              0            0        1  \n",
       "64                  0              0            0        0  \n",
       "\n",
       "[65 rows x 15 columns]"
      ],
      "text/html": "<div>\n<style scoped>\n    .dataframe tbody tr th:only-of-type {\n        vertical-align: middle;\n    }\n\n    .dataframe tbody tr th {\n        vertical-align: top;\n    }\n\n    .dataframe thead th {\n        text-align: right;\n    }\n</style>\n<table border=\"1\" class=\"dataframe\">\n  <thead>\n    <tr style=\"text-align: right;\">\n      <th></th>\n      <th>Date</th>\n      <th>Close</th>\n      <th>month</th>\n      <th>day</th>\n      <th>year</th>\n      <th>quarter</th>\n      <th>dayofweek</th>\n      <th>dayofyear</th>\n      <th>is_month_end</th>\n      <th>is_month_start</th>\n      <th>is_quarter_start</th>\n      <th>is_quarter_end</th>\n      <th>is_year_start</th>\n      <th>is_year_end</th>\n      <th>mon_fri</th>\n    </tr>\n    <tr>\n      <th>index</th>\n      <th></th>\n      <th></th>\n      <th></th>\n      <th></th>\n      <th></th>\n      <th></th>\n      <th></th>\n      <th></th>\n      <th></th>\n      <th></th>\n      <th></th>\n      <th></th>\n      <th></th>\n      <th></th>\n      <th></th>\n    </tr>\n  </thead>\n  <tbody>\n    <tr>\n      <th>0</th>\n      <td>2020-07-07 15:00:00</td>\n      <td>117.58</td>\n      <td>7</td>\n      <td>7</td>\n      <td>2020</td>\n      <td>3</td>\n      <td>1</td>\n      <td>189</td>\n      <td>0</td>\n      <td>0</td>\n      <td>0</td>\n      <td>0</td>\n      <td>0</td>\n      <td>0</td>\n      <td>0</td>\n    </tr>\n    <tr>\n      <th>1</th>\n      <td>2020-07-08 15:00:00</td>\n      <td>117.71</td>\n      <td>7</td>\n      <td>8</td>\n      <td>2020</td>\n      <td>3</td>\n      <td>2</td>\n      <td>190</td>\n      <td>0</td>\n      <td>0</td>\n      <td>0</td>\n      <td>0</td>\n      <td>0</td>\n      <td>0</td>\n      <td>0</td>\n    </tr>\n    <tr>\n      <th>2</th>\n      <td>2020-07-09 15:00:00</td>\n      <td>115.71</td>\n      <td>7</td>\n      <td>9</td>\n      <td>2020</td>\n      <td>3</td>\n      <td>3</td>\n      <td>191</td>\n      <td>0</td>\n      <td>0</td>\n      <td>0</td>\n      <td>0</td>\n      <td>0</td>\n      <td>0</td>\n      <td>0</td>\n    </tr>\n    <tr>\n      <th>3</th>\n      <td>2020-07-10 15:00:00</td>\n      <td>118.35</td>\n      <td>7</td>\n      <td>10</td>\n      <td>2020</td>\n      <td>3</td>\n      <td>4</td>\n      <td>192</td>\n      <td>0</td>\n      <td>0</td>\n      <td>0</td>\n      <td>0</td>\n      <td>0</td>\n      <td>0</td>\n      <td>1</td>\n    </tr>\n    <tr>\n      <th>4</th>\n      <td>2020-07-13 15:00:00</td>\n      <td>119.20</td>\n      <td>7</td>\n      <td>13</td>\n      <td>2020</td>\n      <td>3</td>\n      <td>0</td>\n      <td>195</td>\n      <td>0</td>\n      <td>0</td>\n      <td>0</td>\n      <td>0</td>\n      <td>0</td>\n      <td>0</td>\n      <td>1</td>\n    </tr>\n    <tr>\n      <th>...</th>\n      <td>...</td>\n      <td>...</td>\n      <td>...</td>\n      <td>...</td>\n      <td>...</td>\n      <td>...</td>\n      <td>...</td>\n      <td>...</td>\n      <td>...</td>\n      <td>...</td>\n      <td>...</td>\n      <td>...</td>\n      <td>...</td>\n      <td>...</td>\n      <td>...</td>\n    </tr>\n    <tr>\n      <th>60</th>\n      <td>2020-09-30 15:00:00</td>\n      <td>121.67</td>\n      <td>9</td>\n      <td>30</td>\n      <td>2020</td>\n      <td>3</td>\n      <td>2</td>\n      <td>274</td>\n      <td>1</td>\n      <td>0</td>\n      <td>0</td>\n      <td>1</td>\n      <td>0</td>\n      <td>0</td>\n      <td>0</td>\n    </tr>\n    <tr>\n      <th>61</th>\n      <td>2020-10-01 15:00:00</td>\n      <td>121.09</td>\n      <td>10</td>\n      <td>1</td>\n      <td>2020</td>\n      <td>4</td>\n      <td>3</td>\n      <td>275</td>\n      <td>0</td>\n      <td>1</td>\n      <td>1</td>\n      <td>0</td>\n      <td>0</td>\n      <td>0</td>\n      <td>0</td>\n    </tr>\n    <tr>\n      <th>62</th>\n      <td>2020-10-02 15:00:00</td>\n      <td>120.57</td>\n      <td>10</td>\n      <td>2</td>\n      <td>2020</td>\n      <td>4</td>\n      <td>4</td>\n      <td>276</td>\n      <td>0</td>\n      <td>0</td>\n      <td>0</td>\n      <td>0</td>\n      <td>0</td>\n      <td>0</td>\n      <td>1</td>\n    </tr>\n    <tr>\n      <th>63</th>\n      <td>2020-10-05 15:00:00</td>\n      <td>122.01</td>\n      <td>10</td>\n      <td>5</td>\n      <td>2020</td>\n      <td>4</td>\n      <td>0</td>\n      <td>279</td>\n      <td>0</td>\n      <td>0</td>\n      <td>0</td>\n      <td>0</td>\n      <td>0</td>\n      <td>0</td>\n      <td>1</td>\n    </tr>\n    <tr>\n      <th>64</th>\n      <td>2020-10-06 15:00:00</td>\n      <td>121.97</td>\n      <td>10</td>\n      <td>6</td>\n      <td>2020</td>\n      <td>4</td>\n      <td>1</td>\n      <td>280</td>\n      <td>0</td>\n      <td>0</td>\n      <td>0</td>\n      <td>0</td>\n      <td>0</td>\n      <td>0</td>\n      <td>0</td>\n    </tr>\n  </tbody>\n</table>\n<p>65 rows × 15 columns</p>\n</div>"
     },
     "metadata": {},
     "execution_count": 7
    }
   ],
   "source": [
    "def adddatepart(data,col):\n",
    "    data['month'] = data[col].dt.month\n",
    "    data['day'] = data[col].dt.day\n",
    "    data['year'] = data[col].dt.year\n",
    "    data['quarter'] = data[col].dt.quarter\n",
    "    data['dayofweek'] = data[col].dt.dayofweek\n",
    "    data['dayofyear'] = data[col].dt.dayofyear\n",
    "    #data['dayinmonth'] = data[col].dt.daysinmonth\n",
    "    data['is_month_end'] = data[col].dt.is_month_end.astype(int)\n",
    "    data['is_month_start'] = data[col].dt.is_month_start.astype(int)\n",
    "    data['is_quarter_start'] = data[col].dt.is_quarter_start.astype(int)\n",
    "    data['is_quarter_end'] = data[col].dt.is_quarter_end.astype(int)\n",
    "    data['is_year_start'] = data[col].dt.is_year_start.astype(int)\n",
    "    data['is_year_end'] = data[col].dt.is_year_end.astype(int)\n",
    "    data['mon_fri'] = data['dayofweek'].apply(lambda x: 1 if x==0 or x==4 else 0)\n",
    "    return data\n",
    "    \n",
    "adddatepart(new_data,'Date')\n",
    "new_data"
   ]
  },
  {
   "source": [
    "For further data analysis, we split the data into x (date) and y (closing price)"
   ],
   "cell_type": "markdown",
   "metadata": {}
  },
  {
   "cell_type": "code",
   "execution_count": 8,
   "metadata": {},
   "outputs": [],
   "source": [
    "X = new_data.drop('Date',axis=1)\n",
    "X.drop('Close',axis=1,inplace=True)\n",
    "Y = new_data['Close']"
   ]
  },
  {
   "source": [
    "## Here we create a simple predictor using linear regression"
   ],
   "cell_type": "markdown",
   "metadata": {}
  },
  {
   "source": [
    "split the data into training and testing, using a 30:70 split"
   ],
   "cell_type": "markdown",
   "metadata": {}
  },
  {
   "cell_type": "code",
   "execution_count": 9,
   "metadata": {},
   "outputs": [],
   "source": [
    "train_pct_index = int(0.7 * len(X))\n",
    "x_train, x_validate = X[:train_pct_index], X[train_pct_index:]\n",
    "y_train, y_validate = Y[:train_pct_index], Y[train_pct_index:]"
   ]
  },
  {
   "cell_type": "code",
   "execution_count": 10,
   "metadata": {},
   "outputs": [
    {
     "output_type": "execute_result",
     "data": {
      "text/plain": [
       "LinearRegression()"
      ]
     },
     "metadata": {},
     "execution_count": 10
    }
   ],
   "source": [
    "from sklearn.linear_model import LinearRegression\n",
    "from sklearn.svm import SVR \n",
    "model = LinearRegression()\n",
    "model.fit(x_train,y_train)"
   ]
  },
  {
   "cell_type": "code",
   "execution_count": 11,
   "metadata": {},
   "outputs": [
    {
     "output_type": "stream",
     "name": "stdout",
     "text": [
      "Rms linear reg 5.8440772832863646\n"
     ]
    }
   ],
   "source": [
    "#make predictions and find the rmse\n",
    "preds = model.predict(x_validate)\n",
    "rms=np.sqrt(np.mean(np.power((np.array(y_validate)-np.array(preds)),2)))\n",
    "# This gives the accuracy of the model, the lesser the better\n",
    "print(\"Rms linear reg\",rms)"
   ]
  },
  {
   "source": [
    "Here we can see how the predictions compare to the actual"
   ],
   "cell_type": "markdown",
   "metadata": {}
  },
  {
   "cell_type": "code",
   "execution_count": 12,
   "metadata": {},
   "outputs": [
    {
     "output_type": "execute_result",
     "data": {
      "text/plain": [
       "                     Date   Close  Predictions\n",
       "index                                         \n",
       "0     2020-07-07 15:00:00  117.58     0.000000\n",
       "1     2020-07-08 15:00:00  117.71     0.000000\n",
       "2     2020-07-09 15:00:00  115.71     0.000000\n",
       "3     2020-07-10 15:00:00  118.35     0.000000\n",
       "4     2020-07-13 15:00:00  119.20     0.000000\n",
       "...                   ...     ...          ...\n",
       "60    2020-09-30 15:00:00  121.67   125.570116\n",
       "61    2020-10-01 15:00:00  121.09   124.814614\n",
       "62    2020-10-02 15:00:00  120.57   126.149782\n",
       "63    2020-10-05 15:00:00  122.01   127.316929\n",
       "64    2020-10-06 15:00:00  121.97   127.091357\n",
       "\n",
       "[65 rows x 3 columns]"
      ],
      "text/html": "<div>\n<style scoped>\n    .dataframe tbody tr th:only-of-type {\n        vertical-align: middle;\n    }\n\n    .dataframe tbody tr th {\n        vertical-align: top;\n    }\n\n    .dataframe thead th {\n        text-align: right;\n    }\n</style>\n<table border=\"1\" class=\"dataframe\">\n  <thead>\n    <tr style=\"text-align: right;\">\n      <th></th>\n      <th>Date</th>\n      <th>Close</th>\n      <th>Predictions</th>\n    </tr>\n    <tr>\n      <th>index</th>\n      <th></th>\n      <th></th>\n      <th></th>\n    </tr>\n  </thead>\n  <tbody>\n    <tr>\n      <th>0</th>\n      <td>2020-07-07 15:00:00</td>\n      <td>117.58</td>\n      <td>0.000000</td>\n    </tr>\n    <tr>\n      <th>1</th>\n      <td>2020-07-08 15:00:00</td>\n      <td>117.71</td>\n      <td>0.000000</td>\n    </tr>\n    <tr>\n      <th>2</th>\n      <td>2020-07-09 15:00:00</td>\n      <td>115.71</td>\n      <td>0.000000</td>\n    </tr>\n    <tr>\n      <th>3</th>\n      <td>2020-07-10 15:00:00</td>\n      <td>118.35</td>\n      <td>0.000000</td>\n    </tr>\n    <tr>\n      <th>4</th>\n      <td>2020-07-13 15:00:00</td>\n      <td>119.20</td>\n      <td>0.000000</td>\n    </tr>\n    <tr>\n      <th>...</th>\n      <td>...</td>\n      <td>...</td>\n      <td>...</td>\n    </tr>\n    <tr>\n      <th>60</th>\n      <td>2020-09-30 15:00:00</td>\n      <td>121.67</td>\n      <td>125.570116</td>\n    </tr>\n    <tr>\n      <th>61</th>\n      <td>2020-10-01 15:00:00</td>\n      <td>121.09</td>\n      <td>124.814614</td>\n    </tr>\n    <tr>\n      <th>62</th>\n      <td>2020-10-02 15:00:00</td>\n      <td>120.57</td>\n      <td>126.149782</td>\n    </tr>\n    <tr>\n      <th>63</th>\n      <td>2020-10-05 15:00:00</td>\n      <td>122.01</td>\n      <td>127.316929</td>\n    </tr>\n    <tr>\n      <th>64</th>\n      <td>2020-10-06 15:00:00</td>\n      <td>121.97</td>\n      <td>127.091357</td>\n    </tr>\n  </tbody>\n</table>\n<p>65 rows × 3 columns</p>\n</div>"
     },
     "metadata": {},
     "execution_count": 12
    }
   ],
   "source": [
    "import matplotlib.pyplot as plt\n",
    "viz_data = new_data[['Date','Close']]\n",
    "viz_data['Predictions'] = 0\n",
    "for i in range(train_pct_index,len(viz_data)):\n",
    "    viz_data.loc[i,'Predictions'] = preds[i-train_pct_index]\n",
    "viz_data"
   ]
  },
  {
   "source": [
    "Plotting it"
   ],
   "cell_type": "markdown",
   "metadata": {}
  },
  {
   "cell_type": "code",
   "execution_count": 13,
   "metadata": {},
   "outputs": [
    {
     "output_type": "display_data",
     "data": {
      "text/plain": "<Figure size 1440x720 with 1 Axes>",
      "image/svg+xml": "<?xml version=\"1.0\" encoding=\"utf-8\" standalone=\"no\"?>\r\n<!DOCTYPE svg PUBLIC \"-//W3C//DTD SVG 1.1//EN\"\r\n  \"http://www.w3.org/Graphics/SVG/1.1/DTD/svg11.dtd\">\r\n<!-- Created with matplotlib (https://matplotlib.org/) -->\r\n<svg height=\"603.474375pt\" version=\"1.1\" viewBox=\"0 0 1170.165625 603.474375\" width=\"1170.165625pt\" xmlns=\"http://www.w3.org/2000/svg\" xmlns:xlink=\"http://www.w3.org/1999/xlink\">\r\n <metadata>\r\n  <rdf:RDF xmlns:cc=\"http://creativecommons.org/ns#\" xmlns:dc=\"http://purl.org/dc/elements/1.1/\" xmlns:rdf=\"http://www.w3.org/1999/02/22-rdf-syntax-ns#\">\r\n   <cc:Work>\r\n    <dc:type rdf:resource=\"http://purl.org/dc/dcmitype/StillImage\"/>\r\n    <dc:date>2020-10-08T13:03:52.093436</dc:date>\r\n    <dc:format>image/svg+xml</dc:format>\r\n    <dc:creator>\r\n     <cc:Agent>\r\n      <dc:title>Matplotlib v3.3.2, https://matplotlib.org/</dc:title>\r\n     </cc:Agent>\r\n    </dc:creator>\r\n   </cc:Work>\r\n  </rdf:RDF>\r\n </metadata>\r\n <defs>\r\n  <style type=\"text/css\">*{stroke-linecap:butt;stroke-linejoin:round;}</style>\r\n </defs>\r\n <g id=\"figure_1\">\r\n  <g id=\"patch_1\">\r\n   <path d=\"M 0 603.474375 \r\nL 1170.165625 603.474375 \r\nL 1170.165625 0 \r\nL 0 0 \r\nz\r\n\" style=\"fill:none;\"/>\r\n  </g>\r\n  <g id=\"axes_1\">\r\n   <g id=\"patch_2\">\r\n    <path d=\"M 46.965625 565.918125 \r\nL 1162.965625 565.918125 \r\nL 1162.965625 22.318125 \r\nL 46.965625 22.318125 \r\nz\r\n\" style=\"fill:#ffffff;\"/>\r\n   </g>\r\n   <g id=\"matplotlib.axis_1\">\r\n    <g id=\"xtick_1\">\r\n     <g id=\"line2d_1\">\r\n      <path clip-path=\"url(#p69e05ffaaf)\" d=\"M 74.208049 565.918125 \r\nL 74.208049 22.318125 \r\n\" style=\"fill:none;stroke:#b0b0b0;stroke-linecap:square;stroke-width:0.8;\"/>\r\n     </g>\r\n     <g id=\"line2d_2\">\r\n      <defs>\r\n       <path d=\"M 0 0 \r\nL 0 3.5 \r\n\" id=\"m6b4ec9d408\" style=\"stroke:#000000;stroke-width:0.8;\"/>\r\n      </defs>\r\n      <g>\r\n       <use style=\"stroke:#000000;stroke-width:0.8;\" x=\"74.208049\" xlink:href=\"#m6b4ec9d408\" y=\"565.918125\"/>\r\n      </g>\r\n     </g>\r\n     <g id=\"text_1\">\r\n      <!-- 2020-09-09 -->\r\n      <g transform=\"translate(45.150237 580.516562)scale(0.1 -0.1)\">\r\n       <defs>\r\n        <path d=\"M 19.1875 8.296875 \r\nL 53.609375 8.296875 \r\nL 53.609375 0 \r\nL 7.328125 0 \r\nL 7.328125 8.296875 \r\nQ 12.9375 14.109375 22.625 23.890625 \r\nQ 32.328125 33.6875 34.8125 36.53125 \r\nQ 39.546875 41.84375 41.421875 45.53125 \r\nQ 43.3125 49.21875 43.3125 52.78125 \r\nQ 43.3125 58.59375 39.234375 62.25 \r\nQ 35.15625 65.921875 28.609375 65.921875 \r\nQ 23.96875 65.921875 18.8125 64.3125 \r\nQ 13.671875 62.703125 7.8125 59.421875 \r\nL 7.8125 69.390625 \r\nQ 13.765625 71.78125 18.9375 73 \r\nQ 24.125 74.21875 28.421875 74.21875 \r\nQ 39.75 74.21875 46.484375 68.546875 \r\nQ 53.21875 62.890625 53.21875 53.421875 \r\nQ 53.21875 48.921875 51.53125 44.890625 \r\nQ 49.859375 40.875 45.40625 35.40625 \r\nQ 44.1875 33.984375 37.640625 27.21875 \r\nQ 31.109375 20.453125 19.1875 8.296875 \r\nz\r\n\" id=\"DejaVuSans-50\"/>\r\n        <path d=\"M 31.78125 66.40625 \r\nQ 24.171875 66.40625 20.328125 58.90625 \r\nQ 16.5 51.421875 16.5 36.375 \r\nQ 16.5 21.390625 20.328125 13.890625 \r\nQ 24.171875 6.390625 31.78125 6.390625 \r\nQ 39.453125 6.390625 43.28125 13.890625 \r\nQ 47.125 21.390625 47.125 36.375 \r\nQ 47.125 51.421875 43.28125 58.90625 \r\nQ 39.453125 66.40625 31.78125 66.40625 \r\nz\r\nM 31.78125 74.21875 \r\nQ 44.046875 74.21875 50.515625 64.515625 \r\nQ 56.984375 54.828125 56.984375 36.375 \r\nQ 56.984375 17.96875 50.515625 8.265625 \r\nQ 44.046875 -1.421875 31.78125 -1.421875 \r\nQ 19.53125 -1.421875 13.0625 8.265625 \r\nQ 6.59375 17.96875 6.59375 36.375 \r\nQ 6.59375 54.828125 13.0625 64.515625 \r\nQ 19.53125 74.21875 31.78125 74.21875 \r\nz\r\n\" id=\"DejaVuSans-48\"/>\r\n        <path d=\"M 4.890625 31.390625 \r\nL 31.203125 31.390625 \r\nL 31.203125 23.390625 \r\nL 4.890625 23.390625 \r\nz\r\n\" id=\"DejaVuSans-45\"/>\r\n        <path d=\"M 10.984375 1.515625 \r\nL 10.984375 10.5 \r\nQ 14.703125 8.734375 18.5 7.8125 \r\nQ 22.3125 6.890625 25.984375 6.890625 \r\nQ 35.75 6.890625 40.890625 13.453125 \r\nQ 46.046875 20.015625 46.78125 33.40625 \r\nQ 43.953125 29.203125 39.59375 26.953125 \r\nQ 35.25 24.703125 29.984375 24.703125 \r\nQ 19.046875 24.703125 12.671875 31.3125 \r\nQ 6.296875 37.9375 6.296875 49.421875 \r\nQ 6.296875 60.640625 12.9375 67.421875 \r\nQ 19.578125 74.21875 30.609375 74.21875 \r\nQ 43.265625 74.21875 49.921875 64.515625 \r\nQ 56.59375 54.828125 56.59375 36.375 \r\nQ 56.59375 19.140625 48.40625 8.859375 \r\nQ 40.234375 -1.421875 26.421875 -1.421875 \r\nQ 22.703125 -1.421875 18.890625 -0.6875 \r\nQ 15.09375 0.046875 10.984375 1.515625 \r\nz\r\nM 30.609375 32.421875 \r\nQ 37.25 32.421875 41.125 36.953125 \r\nQ 45.015625 41.5 45.015625 49.421875 \r\nQ 45.015625 57.28125 41.125 61.84375 \r\nQ 37.25 66.40625 30.609375 66.40625 \r\nQ 23.96875 66.40625 20.09375 61.84375 \r\nQ 16.21875 57.28125 16.21875 49.421875 \r\nQ 16.21875 41.5 20.09375 36.953125 \r\nQ 23.96875 32.421875 30.609375 32.421875 \r\nz\r\n\" id=\"DejaVuSans-57\"/>\r\n       </defs>\r\n       <use xlink:href=\"#DejaVuSans-50\"/>\r\n       <use x=\"63.623047\" xlink:href=\"#DejaVuSans-48\"/>\r\n       <use x=\"127.246094\" xlink:href=\"#DejaVuSans-50\"/>\r\n       <use x=\"190.869141\" xlink:href=\"#DejaVuSans-48\"/>\r\n       <use x=\"254.492188\" xlink:href=\"#DejaVuSans-45\"/>\r\n       <use x=\"290.576172\" xlink:href=\"#DejaVuSans-48\"/>\r\n       <use x=\"354.199219\" xlink:href=\"#DejaVuSans-57\"/>\r\n       <use x=\"417.822266\" xlink:href=\"#DejaVuSans-45\"/>\r\n       <use x=\"453.90625\" xlink:href=\"#DejaVuSans-48\"/>\r\n       <use x=\"517.529297\" xlink:href=\"#DejaVuSans-57\"/>\r\n      </g>\r\n     </g>\r\n    </g>\r\n    <g id=\"xtick_2\">\r\n     <g id=\"line2d_3\">\r\n      <path clip-path=\"url(#p69e05ffaaf)\" d=\"M 224.51108 565.918125 \r\nL 224.51108 22.318125 \r\n\" style=\"fill:none;stroke:#b0b0b0;stroke-linecap:square;stroke-width:0.8;\"/>\r\n     </g>\r\n     <g id=\"line2d_4\">\r\n      <g>\r\n       <use style=\"stroke:#000000;stroke-width:0.8;\" x=\"224.51108\" xlink:href=\"#m6b4ec9d408\" y=\"565.918125\"/>\r\n      </g>\r\n     </g>\r\n     <g id=\"text_2\">\r\n      <!-- 2020-09-13 -->\r\n      <g transform=\"translate(195.453267 580.516562)scale(0.1 -0.1)\">\r\n       <defs>\r\n        <path d=\"M 12.40625 8.296875 \r\nL 28.515625 8.296875 \r\nL 28.515625 63.921875 \r\nL 10.984375 60.40625 \r\nL 10.984375 69.390625 \r\nL 28.421875 72.90625 \r\nL 38.28125 72.90625 \r\nL 38.28125 8.296875 \r\nL 54.390625 8.296875 \r\nL 54.390625 0 \r\nL 12.40625 0 \r\nz\r\n\" id=\"DejaVuSans-49\"/>\r\n        <path d=\"M 40.578125 39.3125 \r\nQ 47.65625 37.796875 51.625 33 \r\nQ 55.609375 28.21875 55.609375 21.1875 \r\nQ 55.609375 10.40625 48.1875 4.484375 \r\nQ 40.765625 -1.421875 27.09375 -1.421875 \r\nQ 22.515625 -1.421875 17.65625 -0.515625 \r\nQ 12.796875 0.390625 7.625 2.203125 \r\nL 7.625 11.71875 \r\nQ 11.71875 9.328125 16.59375 8.109375 \r\nQ 21.484375 6.890625 26.8125 6.890625 \r\nQ 36.078125 6.890625 40.9375 10.546875 \r\nQ 45.796875 14.203125 45.796875 21.1875 \r\nQ 45.796875 27.640625 41.28125 31.265625 \r\nQ 36.765625 34.90625 28.71875 34.90625 \r\nL 20.21875 34.90625 \r\nL 20.21875 43.015625 \r\nL 29.109375 43.015625 \r\nQ 36.375 43.015625 40.234375 45.921875 \r\nQ 44.09375 48.828125 44.09375 54.296875 \r\nQ 44.09375 59.90625 40.109375 62.90625 \r\nQ 36.140625 65.921875 28.71875 65.921875 \r\nQ 24.65625 65.921875 20.015625 65.03125 \r\nQ 15.375 64.15625 9.8125 62.3125 \r\nL 9.8125 71.09375 \r\nQ 15.4375 72.65625 20.34375 73.4375 \r\nQ 25.25 74.21875 29.59375 74.21875 \r\nQ 40.828125 74.21875 47.359375 69.109375 \r\nQ 53.90625 64.015625 53.90625 55.328125 \r\nQ 53.90625 49.265625 50.4375 45.09375 \r\nQ 46.96875 40.921875 40.578125 39.3125 \r\nz\r\n\" id=\"DejaVuSans-51\"/>\r\n       </defs>\r\n       <use xlink:href=\"#DejaVuSans-50\"/>\r\n       <use x=\"63.623047\" xlink:href=\"#DejaVuSans-48\"/>\r\n       <use x=\"127.246094\" xlink:href=\"#DejaVuSans-50\"/>\r\n       <use x=\"190.869141\" xlink:href=\"#DejaVuSans-48\"/>\r\n       <use x=\"254.492188\" xlink:href=\"#DejaVuSans-45\"/>\r\n       <use x=\"290.576172\" xlink:href=\"#DejaVuSans-48\"/>\r\n       <use x=\"354.199219\" xlink:href=\"#DejaVuSans-57\"/>\r\n       <use x=\"417.822266\" xlink:href=\"#DejaVuSans-45\"/>\r\n       <use x=\"453.90625\" xlink:href=\"#DejaVuSans-49\"/>\r\n       <use x=\"517.529297\" xlink:href=\"#DejaVuSans-51\"/>\r\n      </g>\r\n     </g>\r\n    </g>\r\n    <g id=\"xtick_3\">\r\n     <g id=\"line2d_5\">\r\n      <path clip-path=\"url(#p69e05ffaaf)\" d=\"M 374.81411 565.918125 \r\nL 374.81411 22.318125 \r\n\" style=\"fill:none;stroke:#b0b0b0;stroke-linecap:square;stroke-width:0.8;\"/>\r\n     </g>\r\n     <g id=\"line2d_6\">\r\n      <g>\r\n       <use style=\"stroke:#000000;stroke-width:0.8;\" x=\"374.81411\" xlink:href=\"#m6b4ec9d408\" y=\"565.918125\"/>\r\n      </g>\r\n     </g>\r\n     <g id=\"text_3\">\r\n      <!-- 2020-09-17 -->\r\n      <g transform=\"translate(345.756297 580.516562)scale(0.1 -0.1)\">\r\n       <defs>\r\n        <path d=\"M 8.203125 72.90625 \r\nL 55.078125 72.90625 \r\nL 55.078125 68.703125 \r\nL 28.609375 0 \r\nL 18.3125 0 \r\nL 43.21875 64.59375 \r\nL 8.203125 64.59375 \r\nz\r\n\" id=\"DejaVuSans-55\"/>\r\n       </defs>\r\n       <use xlink:href=\"#DejaVuSans-50\"/>\r\n       <use x=\"63.623047\" xlink:href=\"#DejaVuSans-48\"/>\r\n       <use x=\"127.246094\" xlink:href=\"#DejaVuSans-50\"/>\r\n       <use x=\"190.869141\" xlink:href=\"#DejaVuSans-48\"/>\r\n       <use x=\"254.492188\" xlink:href=\"#DejaVuSans-45\"/>\r\n       <use x=\"290.576172\" xlink:href=\"#DejaVuSans-48\"/>\r\n       <use x=\"354.199219\" xlink:href=\"#DejaVuSans-57\"/>\r\n       <use x=\"417.822266\" xlink:href=\"#DejaVuSans-45\"/>\r\n       <use x=\"453.90625\" xlink:href=\"#DejaVuSans-49\"/>\r\n       <use x=\"517.529297\" xlink:href=\"#DejaVuSans-55\"/>\r\n      </g>\r\n     </g>\r\n    </g>\r\n    <g id=\"xtick_4\">\r\n     <g id=\"line2d_7\">\r\n      <path clip-path=\"url(#p69e05ffaaf)\" d=\"M 525.11714 565.918125 \r\nL 525.11714 22.318125 \r\n\" style=\"fill:none;stroke:#b0b0b0;stroke-linecap:square;stroke-width:0.8;\"/>\r\n     </g>\r\n     <g id=\"line2d_8\">\r\n      <g>\r\n       <use style=\"stroke:#000000;stroke-width:0.8;\" x=\"525.11714\" xlink:href=\"#m6b4ec9d408\" y=\"565.918125\"/>\r\n      </g>\r\n     </g>\r\n     <g id=\"text_4\">\r\n      <!-- 2020-09-21 -->\r\n      <g transform=\"translate(496.059328 580.516562)scale(0.1 -0.1)\">\r\n       <use xlink:href=\"#DejaVuSans-50\"/>\r\n       <use x=\"63.623047\" xlink:href=\"#DejaVuSans-48\"/>\r\n       <use x=\"127.246094\" xlink:href=\"#DejaVuSans-50\"/>\r\n       <use x=\"190.869141\" xlink:href=\"#DejaVuSans-48\"/>\r\n       <use x=\"254.492188\" xlink:href=\"#DejaVuSans-45\"/>\r\n       <use x=\"290.576172\" xlink:href=\"#DejaVuSans-48\"/>\r\n       <use x=\"354.199219\" xlink:href=\"#DejaVuSans-57\"/>\r\n       <use x=\"417.822266\" xlink:href=\"#DejaVuSans-45\"/>\r\n       <use x=\"453.90625\" xlink:href=\"#DejaVuSans-50\"/>\r\n       <use x=\"517.529297\" xlink:href=\"#DejaVuSans-49\"/>\r\n      </g>\r\n     </g>\r\n    </g>\r\n    <g id=\"xtick_5\">\r\n     <g id=\"line2d_9\">\r\n      <path clip-path=\"url(#p69e05ffaaf)\" d=\"M 675.42017 565.918125 \r\nL 675.42017 22.318125 \r\n\" style=\"fill:none;stroke:#b0b0b0;stroke-linecap:square;stroke-width:0.8;\"/>\r\n     </g>\r\n     <g id=\"line2d_10\">\r\n      <g>\r\n       <use style=\"stroke:#000000;stroke-width:0.8;\" x=\"675.42017\" xlink:href=\"#m6b4ec9d408\" y=\"565.918125\"/>\r\n      </g>\r\n     </g>\r\n     <g id=\"text_5\">\r\n      <!-- 2020-09-25 -->\r\n      <g transform=\"translate(646.362358 580.516562)scale(0.1 -0.1)\">\r\n       <defs>\r\n        <path d=\"M 10.796875 72.90625 \r\nL 49.515625 72.90625 \r\nL 49.515625 64.59375 \r\nL 19.828125 64.59375 \r\nL 19.828125 46.734375 \r\nQ 21.96875 47.46875 24.109375 47.828125 \r\nQ 26.265625 48.1875 28.421875 48.1875 \r\nQ 40.625 48.1875 47.75 41.5 \r\nQ 54.890625 34.8125 54.890625 23.390625 \r\nQ 54.890625 11.625 47.5625 5.09375 \r\nQ 40.234375 -1.421875 26.90625 -1.421875 \r\nQ 22.3125 -1.421875 17.546875 -0.640625 \r\nQ 12.796875 0.140625 7.71875 1.703125 \r\nL 7.71875 11.625 \r\nQ 12.109375 9.234375 16.796875 8.0625 \r\nQ 21.484375 6.890625 26.703125 6.890625 \r\nQ 35.15625 6.890625 40.078125 11.328125 \r\nQ 45.015625 15.765625 45.015625 23.390625 \r\nQ 45.015625 31 40.078125 35.4375 \r\nQ 35.15625 39.890625 26.703125 39.890625 \r\nQ 22.75 39.890625 18.8125 39.015625 \r\nQ 14.890625 38.140625 10.796875 36.28125 \r\nz\r\n\" id=\"DejaVuSans-53\"/>\r\n       </defs>\r\n       <use xlink:href=\"#DejaVuSans-50\"/>\r\n       <use x=\"63.623047\" xlink:href=\"#DejaVuSans-48\"/>\r\n       <use x=\"127.246094\" xlink:href=\"#DejaVuSans-50\"/>\r\n       <use x=\"190.869141\" xlink:href=\"#DejaVuSans-48\"/>\r\n       <use x=\"254.492188\" xlink:href=\"#DejaVuSans-45\"/>\r\n       <use x=\"290.576172\" xlink:href=\"#DejaVuSans-48\"/>\r\n       <use x=\"354.199219\" xlink:href=\"#DejaVuSans-57\"/>\r\n       <use x=\"417.822266\" xlink:href=\"#DejaVuSans-45\"/>\r\n       <use x=\"453.90625\" xlink:href=\"#DejaVuSans-50\"/>\r\n       <use x=\"517.529297\" xlink:href=\"#DejaVuSans-53\"/>\r\n      </g>\r\n     </g>\r\n    </g>\r\n    <g id=\"xtick_6\">\r\n     <g id=\"line2d_11\">\r\n      <path clip-path=\"url(#p69e05ffaaf)\" d=\"M 825.723201 565.918125 \r\nL 825.723201 22.318125 \r\n\" style=\"fill:none;stroke:#b0b0b0;stroke-linecap:square;stroke-width:0.8;\"/>\r\n     </g>\r\n     <g id=\"line2d_12\">\r\n      <g>\r\n       <use style=\"stroke:#000000;stroke-width:0.8;\" x=\"825.723201\" xlink:href=\"#m6b4ec9d408\" y=\"565.918125\"/>\r\n      </g>\r\n     </g>\r\n     <g id=\"text_6\">\r\n      <!-- 2020-09-29 -->\r\n      <g transform=\"translate(796.665388 580.516562)scale(0.1 -0.1)\">\r\n       <use xlink:href=\"#DejaVuSans-50\"/>\r\n       <use x=\"63.623047\" xlink:href=\"#DejaVuSans-48\"/>\r\n       <use x=\"127.246094\" xlink:href=\"#DejaVuSans-50\"/>\r\n       <use x=\"190.869141\" xlink:href=\"#DejaVuSans-48\"/>\r\n       <use x=\"254.492188\" xlink:href=\"#DejaVuSans-45\"/>\r\n       <use x=\"290.576172\" xlink:href=\"#DejaVuSans-48\"/>\r\n       <use x=\"354.199219\" xlink:href=\"#DejaVuSans-57\"/>\r\n       <use x=\"417.822266\" xlink:href=\"#DejaVuSans-45\"/>\r\n       <use x=\"453.90625\" xlink:href=\"#DejaVuSans-50\"/>\r\n       <use x=\"517.529297\" xlink:href=\"#DejaVuSans-57\"/>\r\n      </g>\r\n     </g>\r\n    </g>\r\n    <g id=\"xtick_7\">\r\n     <g id=\"line2d_13\">\r\n      <path clip-path=\"url(#p69e05ffaaf)\" d=\"M 900.874716 565.918125 \r\nL 900.874716 22.318125 \r\n\" style=\"fill:none;stroke:#b0b0b0;stroke-linecap:square;stroke-width:0.8;\"/>\r\n     </g>\r\n     <g id=\"line2d_14\">\r\n      <g>\r\n       <use style=\"stroke:#000000;stroke-width:0.8;\" x=\"900.874716\" xlink:href=\"#m6b4ec9d408\" y=\"565.918125\"/>\r\n      </g>\r\n     </g>\r\n     <g id=\"text_7\">\r\n      <!-- 2020-10-01 -->\r\n      <g transform=\"translate(871.816903 580.516562)scale(0.1 -0.1)\">\r\n       <use xlink:href=\"#DejaVuSans-50\"/>\r\n       <use x=\"63.623047\" xlink:href=\"#DejaVuSans-48\"/>\r\n       <use x=\"127.246094\" xlink:href=\"#DejaVuSans-50\"/>\r\n       <use x=\"190.869141\" xlink:href=\"#DejaVuSans-48\"/>\r\n       <use x=\"254.492188\" xlink:href=\"#DejaVuSans-45\"/>\r\n       <use x=\"290.576172\" xlink:href=\"#DejaVuSans-49\"/>\r\n       <use x=\"354.199219\" xlink:href=\"#DejaVuSans-48\"/>\r\n       <use x=\"417.822266\" xlink:href=\"#DejaVuSans-45\"/>\r\n       <use x=\"453.90625\" xlink:href=\"#DejaVuSans-48\"/>\r\n       <use x=\"517.529297\" xlink:href=\"#DejaVuSans-49\"/>\r\n      </g>\r\n     </g>\r\n    </g>\r\n    <g id=\"xtick_8\">\r\n     <g id=\"line2d_15\">\r\n      <path clip-path=\"url(#p69e05ffaaf)\" d=\"M 1051.177746 565.918125 \r\nL 1051.177746 22.318125 \r\n\" style=\"fill:none;stroke:#b0b0b0;stroke-linecap:square;stroke-width:0.8;\"/>\r\n     </g>\r\n     <g id=\"line2d_16\">\r\n      <g>\r\n       <use style=\"stroke:#000000;stroke-width:0.8;\" x=\"1051.177746\" xlink:href=\"#m6b4ec9d408\" y=\"565.918125\"/>\r\n      </g>\r\n     </g>\r\n     <g id=\"text_8\">\r\n      <!-- 2020-10-05 -->\r\n      <g transform=\"translate(1022.119934 580.516562)scale(0.1 -0.1)\">\r\n       <use xlink:href=\"#DejaVuSans-50\"/>\r\n       <use x=\"63.623047\" xlink:href=\"#DejaVuSans-48\"/>\r\n       <use x=\"127.246094\" xlink:href=\"#DejaVuSans-50\"/>\r\n       <use x=\"190.869141\" xlink:href=\"#DejaVuSans-48\"/>\r\n       <use x=\"254.492188\" xlink:href=\"#DejaVuSans-45\"/>\r\n       <use x=\"290.576172\" xlink:href=\"#DejaVuSans-49\"/>\r\n       <use x=\"354.199219\" xlink:href=\"#DejaVuSans-48\"/>\r\n       <use x=\"417.822266\" xlink:href=\"#DejaVuSans-45\"/>\r\n       <use x=\"453.90625\" xlink:href=\"#DejaVuSans-48\"/>\r\n       <use x=\"517.529297\" xlink:href=\"#DejaVuSans-53\"/>\r\n      </g>\r\n     </g>\r\n    </g>\r\n    <g id=\"text_9\">\r\n     <!-- Date -->\r\n     <g transform=\"translate(593.014844 594.194687)scale(0.1 -0.1)\">\r\n      <defs>\r\n       <path d=\"M 19.671875 64.796875 \r\nL 19.671875 8.109375 \r\nL 31.59375 8.109375 \r\nQ 46.6875 8.109375 53.6875 14.9375 \r\nQ 60.6875 21.78125 60.6875 36.53125 \r\nQ 60.6875 51.171875 53.6875 57.984375 \r\nQ 46.6875 64.796875 31.59375 64.796875 \r\nz\r\nM 9.8125 72.90625 \r\nL 30.078125 72.90625 \r\nQ 51.265625 72.90625 61.171875 64.09375 \r\nQ 71.09375 55.28125 71.09375 36.53125 \r\nQ 71.09375 17.671875 61.125 8.828125 \r\nQ 51.171875 0 30.078125 0 \r\nL 9.8125 0 \r\nz\r\n\" id=\"DejaVuSans-68\"/>\r\n       <path d=\"M 34.28125 27.484375 \r\nQ 23.390625 27.484375 19.1875 25 \r\nQ 14.984375 22.515625 14.984375 16.5 \r\nQ 14.984375 11.71875 18.140625 8.90625 \r\nQ 21.296875 6.109375 26.703125 6.109375 \r\nQ 34.1875 6.109375 38.703125 11.40625 \r\nQ 43.21875 16.703125 43.21875 25.484375 \r\nL 43.21875 27.484375 \r\nz\r\nM 52.203125 31.203125 \r\nL 52.203125 0 \r\nL 43.21875 0 \r\nL 43.21875 8.296875 \r\nQ 40.140625 3.328125 35.546875 0.953125 \r\nQ 30.953125 -1.421875 24.3125 -1.421875 \r\nQ 15.921875 -1.421875 10.953125 3.296875 \r\nQ 6 8.015625 6 15.921875 \r\nQ 6 25.140625 12.171875 29.828125 \r\nQ 18.359375 34.515625 30.609375 34.515625 \r\nL 43.21875 34.515625 \r\nL 43.21875 35.40625 \r\nQ 43.21875 41.609375 39.140625 45 \r\nQ 35.0625 48.390625 27.6875 48.390625 \r\nQ 23 48.390625 18.546875 47.265625 \r\nQ 14.109375 46.140625 10.015625 43.890625 \r\nL 10.015625 52.203125 \r\nQ 14.9375 54.109375 19.578125 55.046875 \r\nQ 24.21875 56 28.609375 56 \r\nQ 40.484375 56 46.34375 49.84375 \r\nQ 52.203125 43.703125 52.203125 31.203125 \r\nz\r\n\" id=\"DejaVuSans-97\"/>\r\n       <path d=\"M 18.3125 70.21875 \r\nL 18.3125 54.6875 \r\nL 36.8125 54.6875 \r\nL 36.8125 47.703125 \r\nL 18.3125 47.703125 \r\nL 18.3125 18.015625 \r\nQ 18.3125 11.328125 20.140625 9.421875 \r\nQ 21.96875 7.515625 27.59375 7.515625 \r\nL 36.8125 7.515625 \r\nL 36.8125 0 \r\nL 27.59375 0 \r\nQ 17.1875 0 13.234375 3.875 \r\nQ 9.28125 7.765625 9.28125 18.015625 \r\nL 9.28125 47.703125 \r\nL 2.6875 47.703125 \r\nL 2.6875 54.6875 \r\nL 9.28125 54.6875 \r\nL 9.28125 70.21875 \r\nz\r\n\" id=\"DejaVuSans-116\"/>\r\n       <path d=\"M 56.203125 29.59375 \r\nL 56.203125 25.203125 \r\nL 14.890625 25.203125 \r\nQ 15.484375 15.921875 20.484375 11.0625 \r\nQ 25.484375 6.203125 34.421875 6.203125 \r\nQ 39.59375 6.203125 44.453125 7.46875 \r\nQ 49.3125 8.734375 54.109375 11.28125 \r\nL 54.109375 2.78125 \r\nQ 49.265625 0.734375 44.1875 -0.34375 \r\nQ 39.109375 -1.421875 33.890625 -1.421875 \r\nQ 20.796875 -1.421875 13.15625 6.1875 \r\nQ 5.515625 13.8125 5.515625 26.8125 \r\nQ 5.515625 40.234375 12.765625 48.109375 \r\nQ 20.015625 56 32.328125 56 \r\nQ 43.359375 56 49.78125 48.890625 \r\nQ 56.203125 41.796875 56.203125 29.59375 \r\nz\r\nM 47.21875 32.234375 \r\nQ 47.125 39.59375 43.09375 43.984375 \r\nQ 39.0625 48.390625 32.421875 48.390625 \r\nQ 24.90625 48.390625 20.390625 44.140625 \r\nQ 15.875 39.890625 15.1875 32.171875 \r\nz\r\n\" id=\"DejaVuSans-101\"/>\r\n      </defs>\r\n      <use xlink:href=\"#DejaVuSans-68\"/>\r\n      <use x=\"77.001953\" xlink:href=\"#DejaVuSans-97\"/>\r\n      <use x=\"138.28125\" xlink:href=\"#DejaVuSans-116\"/>\r\n      <use x=\"177.490234\" xlink:href=\"#DejaVuSans-101\"/>\r\n     </g>\r\n    </g>\r\n   </g>\r\n   <g id=\"matplotlib.axis_2\">\r\n    <g id=\"ytick_1\">\r\n     <g id=\"line2d_17\">\r\n      <path clip-path=\"url(#p69e05ffaaf)\" d=\"M 46.965625 545.367054 \r\nL 1162.965625 545.367054 \r\n\" style=\"fill:none;stroke:#b0b0b0;stroke-linecap:square;stroke-width:0.8;\"/>\r\n     </g>\r\n     <g id=\"line2d_18\">\r\n      <defs>\r\n       <path d=\"M 0 0 \r\nL -3.5 0 \r\n\" id=\"mb132b19b67\" style=\"stroke:#000000;stroke-width:0.8;\"/>\r\n      </defs>\r\n      <g>\r\n       <use style=\"stroke:#000000;stroke-width:0.8;\" x=\"46.965625\" xlink:href=\"#mb132b19b67\" y=\"545.367054\"/>\r\n      </g>\r\n     </g>\r\n     <g id=\"text_10\">\r\n      <!-- 118 -->\r\n      <g transform=\"translate(20.878125 549.166273)scale(0.1 -0.1)\">\r\n       <defs>\r\n        <path d=\"M 31.78125 34.625 \r\nQ 24.75 34.625 20.71875 30.859375 \r\nQ 16.703125 27.09375 16.703125 20.515625 \r\nQ 16.703125 13.921875 20.71875 10.15625 \r\nQ 24.75 6.390625 31.78125 6.390625 \r\nQ 38.8125 6.390625 42.859375 10.171875 \r\nQ 46.921875 13.96875 46.921875 20.515625 \r\nQ 46.921875 27.09375 42.890625 30.859375 \r\nQ 38.875 34.625 31.78125 34.625 \r\nz\r\nM 21.921875 38.8125 \r\nQ 15.578125 40.375 12.03125 44.71875 \r\nQ 8.5 49.078125 8.5 55.328125 \r\nQ 8.5 64.0625 14.71875 69.140625 \r\nQ 20.953125 74.21875 31.78125 74.21875 \r\nQ 42.671875 74.21875 48.875 69.140625 \r\nQ 55.078125 64.0625 55.078125 55.328125 \r\nQ 55.078125 49.078125 51.53125 44.71875 \r\nQ 48 40.375 41.703125 38.8125 \r\nQ 48.828125 37.15625 52.796875 32.3125 \r\nQ 56.78125 27.484375 56.78125 20.515625 \r\nQ 56.78125 9.90625 50.3125 4.234375 \r\nQ 43.84375 -1.421875 31.78125 -1.421875 \r\nQ 19.734375 -1.421875 13.25 4.234375 \r\nQ 6.78125 9.90625 6.78125 20.515625 \r\nQ 6.78125 27.484375 10.78125 32.3125 \r\nQ 14.796875 37.15625 21.921875 38.8125 \r\nz\r\nM 18.3125 54.390625 \r\nQ 18.3125 48.734375 21.84375 45.5625 \r\nQ 25.390625 42.390625 31.78125 42.390625 \r\nQ 38.140625 42.390625 41.71875 45.5625 \r\nQ 45.3125 48.734375 45.3125 54.390625 \r\nQ 45.3125 60.0625 41.71875 63.234375 \r\nQ 38.140625 66.40625 31.78125 66.40625 \r\nQ 25.390625 66.40625 21.84375 63.234375 \r\nQ 18.3125 60.0625 18.3125 54.390625 \r\nz\r\n\" id=\"DejaVuSans-56\"/>\r\n       </defs>\r\n       <use xlink:href=\"#DejaVuSans-49\"/>\r\n       <use x=\"63.623047\" xlink:href=\"#DejaVuSans-49\"/>\r\n       <use x=\"127.246094\" xlink:href=\"#DejaVuSans-56\"/>\r\n      </g>\r\n     </g>\r\n    </g>\r\n    <g id=\"ytick_2\">\r\n     <g id=\"line2d_19\">\r\n      <path clip-path=\"url(#p69e05ffaaf)\" d=\"M 46.965625 452.966607 \r\nL 1162.965625 452.966607 \r\n\" style=\"fill:none;stroke:#b0b0b0;stroke-linecap:square;stroke-width:0.8;\"/>\r\n     </g>\r\n     <g id=\"line2d_20\">\r\n      <g>\r\n       <use style=\"stroke:#000000;stroke-width:0.8;\" x=\"46.965625\" xlink:href=\"#mb132b19b67\" y=\"452.966607\"/>\r\n      </g>\r\n     </g>\r\n     <g id=\"text_11\">\r\n      <!-- 120 -->\r\n      <g transform=\"translate(20.878125 456.765825)scale(0.1 -0.1)\">\r\n       <use xlink:href=\"#DejaVuSans-49\"/>\r\n       <use x=\"63.623047\" xlink:href=\"#DejaVuSans-50\"/>\r\n       <use x=\"127.246094\" xlink:href=\"#DejaVuSans-48\"/>\r\n      </g>\r\n     </g>\r\n    </g>\r\n    <g id=\"ytick_3\">\r\n     <g id=\"line2d_21\">\r\n      <path clip-path=\"url(#p69e05ffaaf)\" d=\"M 46.965625 360.566159 \r\nL 1162.965625 360.566159 \r\n\" style=\"fill:none;stroke:#b0b0b0;stroke-linecap:square;stroke-width:0.8;\"/>\r\n     </g>\r\n     <g id=\"line2d_22\">\r\n      <g>\r\n       <use style=\"stroke:#000000;stroke-width:0.8;\" x=\"46.965625\" xlink:href=\"#mb132b19b67\" y=\"360.566159\"/>\r\n      </g>\r\n     </g>\r\n     <g id=\"text_12\">\r\n      <!-- 122 -->\r\n      <g transform=\"translate(20.878125 364.365378)scale(0.1 -0.1)\">\r\n       <use xlink:href=\"#DejaVuSans-49\"/>\r\n       <use x=\"63.623047\" xlink:href=\"#DejaVuSans-50\"/>\r\n       <use x=\"127.246094\" xlink:href=\"#DejaVuSans-50\"/>\r\n      </g>\r\n     </g>\r\n    </g>\r\n    <g id=\"ytick_4\">\r\n     <g id=\"line2d_23\">\r\n      <path clip-path=\"url(#p69e05ffaaf)\" d=\"M 46.965625 268.165712 \r\nL 1162.965625 268.165712 \r\n\" style=\"fill:none;stroke:#b0b0b0;stroke-linecap:square;stroke-width:0.8;\"/>\r\n     </g>\r\n     <g id=\"line2d_24\">\r\n      <g>\r\n       <use style=\"stroke:#000000;stroke-width:0.8;\" x=\"46.965625\" xlink:href=\"#mb132b19b67\" y=\"268.165712\"/>\r\n      </g>\r\n     </g>\r\n     <g id=\"text_13\">\r\n      <!-- 124 -->\r\n      <g transform=\"translate(20.878125 271.96493)scale(0.1 -0.1)\">\r\n       <defs>\r\n        <path d=\"M 37.796875 64.3125 \r\nL 12.890625 25.390625 \r\nL 37.796875 25.390625 \r\nz\r\nM 35.203125 72.90625 \r\nL 47.609375 72.90625 \r\nL 47.609375 25.390625 \r\nL 58.015625 25.390625 \r\nL 58.015625 17.1875 \r\nL 47.609375 17.1875 \r\nL 47.609375 0 \r\nL 37.796875 0 \r\nL 37.796875 17.1875 \r\nL 4.890625 17.1875 \r\nL 4.890625 26.703125 \r\nz\r\n\" id=\"DejaVuSans-52\"/>\r\n       </defs>\r\n       <use xlink:href=\"#DejaVuSans-49\"/>\r\n       <use x=\"63.623047\" xlink:href=\"#DejaVuSans-50\"/>\r\n       <use x=\"127.246094\" xlink:href=\"#DejaVuSans-52\"/>\r\n      </g>\r\n     </g>\r\n    </g>\r\n    <g id=\"ytick_5\">\r\n     <g id=\"line2d_25\">\r\n      <path clip-path=\"url(#p69e05ffaaf)\" d=\"M 46.965625 175.765264 \r\nL 1162.965625 175.765264 \r\n\" style=\"fill:none;stroke:#b0b0b0;stroke-linecap:square;stroke-width:0.8;\"/>\r\n     </g>\r\n     <g id=\"line2d_26\">\r\n      <g>\r\n       <use style=\"stroke:#000000;stroke-width:0.8;\" x=\"46.965625\" xlink:href=\"#mb132b19b67\" y=\"175.765264\"/>\r\n      </g>\r\n     </g>\r\n     <g id=\"text_14\">\r\n      <!-- 126 -->\r\n      <g transform=\"translate(20.878125 179.564483)scale(0.1 -0.1)\">\r\n       <defs>\r\n        <path d=\"M 33.015625 40.375 \r\nQ 26.375 40.375 22.484375 35.828125 \r\nQ 18.609375 31.296875 18.609375 23.390625 \r\nQ 18.609375 15.53125 22.484375 10.953125 \r\nQ 26.375 6.390625 33.015625 6.390625 \r\nQ 39.65625 6.390625 43.53125 10.953125 \r\nQ 47.40625 15.53125 47.40625 23.390625 \r\nQ 47.40625 31.296875 43.53125 35.828125 \r\nQ 39.65625 40.375 33.015625 40.375 \r\nz\r\nM 52.59375 71.296875 \r\nL 52.59375 62.3125 \r\nQ 48.875 64.0625 45.09375 64.984375 \r\nQ 41.3125 65.921875 37.59375 65.921875 \r\nQ 27.828125 65.921875 22.671875 59.328125 \r\nQ 17.53125 52.734375 16.796875 39.40625 \r\nQ 19.671875 43.65625 24.015625 45.921875 \r\nQ 28.375 48.1875 33.59375 48.1875 \r\nQ 44.578125 48.1875 50.953125 41.515625 \r\nQ 57.328125 34.859375 57.328125 23.390625 \r\nQ 57.328125 12.15625 50.6875 5.359375 \r\nQ 44.046875 -1.421875 33.015625 -1.421875 \r\nQ 20.359375 -1.421875 13.671875 8.265625 \r\nQ 6.984375 17.96875 6.984375 36.375 \r\nQ 6.984375 53.65625 15.1875 63.9375 \r\nQ 23.390625 74.21875 37.203125 74.21875 \r\nQ 40.921875 74.21875 44.703125 73.484375 \r\nQ 48.484375 72.75 52.59375 71.296875 \r\nz\r\n\" id=\"DejaVuSans-54\"/>\r\n       </defs>\r\n       <use xlink:href=\"#DejaVuSans-49\"/>\r\n       <use x=\"63.623047\" xlink:href=\"#DejaVuSans-50\"/>\r\n       <use x=\"127.246094\" xlink:href=\"#DejaVuSans-54\"/>\r\n      </g>\r\n     </g>\r\n    </g>\r\n    <g id=\"ytick_6\">\r\n     <g id=\"line2d_27\">\r\n      <path clip-path=\"url(#p69e05ffaaf)\" d=\"M 46.965625 83.364817 \r\nL 1162.965625 83.364817 \r\n\" style=\"fill:none;stroke:#b0b0b0;stroke-linecap:square;stroke-width:0.8;\"/>\r\n     </g>\r\n     <g id=\"line2d_28\">\r\n      <g>\r\n       <use style=\"stroke:#000000;stroke-width:0.8;\" x=\"46.965625\" xlink:href=\"#mb132b19b67\" y=\"83.364817\"/>\r\n      </g>\r\n     </g>\r\n     <g id=\"text_15\">\r\n      <!-- 128 -->\r\n      <g transform=\"translate(20.878125 87.164035)scale(0.1 -0.1)\">\r\n       <use xlink:href=\"#DejaVuSans-49\"/>\r\n       <use x=\"63.623047\" xlink:href=\"#DejaVuSans-50\"/>\r\n       <use x=\"127.246094\" xlink:href=\"#DejaVuSans-56\"/>\r\n      </g>\r\n     </g>\r\n    </g>\r\n    <g id=\"text_16\">\r\n     <!-- Price -->\r\n     <g transform=\"translate(14.798438 306.315781)rotate(-90)scale(0.1 -0.1)\">\r\n      <defs>\r\n       <path d=\"M 19.671875 64.796875 \r\nL 19.671875 37.40625 \r\nL 32.078125 37.40625 \r\nQ 38.96875 37.40625 42.71875 40.96875 \r\nQ 46.484375 44.53125 46.484375 51.125 \r\nQ 46.484375 57.671875 42.71875 61.234375 \r\nQ 38.96875 64.796875 32.078125 64.796875 \r\nz\r\nM 9.8125 72.90625 \r\nL 32.078125 72.90625 \r\nQ 44.34375 72.90625 50.609375 67.359375 \r\nQ 56.890625 61.8125 56.890625 51.125 \r\nQ 56.890625 40.328125 50.609375 34.8125 \r\nQ 44.34375 29.296875 32.078125 29.296875 \r\nL 19.671875 29.296875 \r\nL 19.671875 0 \r\nL 9.8125 0 \r\nz\r\n\" id=\"DejaVuSans-80\"/>\r\n       <path d=\"M 41.109375 46.296875 \r\nQ 39.59375 47.171875 37.8125 47.578125 \r\nQ 36.03125 48 33.890625 48 \r\nQ 26.265625 48 22.1875 43.046875 \r\nQ 18.109375 38.09375 18.109375 28.8125 \r\nL 18.109375 0 \r\nL 9.078125 0 \r\nL 9.078125 54.6875 \r\nL 18.109375 54.6875 \r\nL 18.109375 46.1875 \r\nQ 20.953125 51.171875 25.484375 53.578125 \r\nQ 30.03125 56 36.53125 56 \r\nQ 37.453125 56 38.578125 55.875 \r\nQ 39.703125 55.765625 41.0625 55.515625 \r\nz\r\n\" id=\"DejaVuSans-114\"/>\r\n       <path d=\"M 9.421875 54.6875 \r\nL 18.40625 54.6875 \r\nL 18.40625 0 \r\nL 9.421875 0 \r\nz\r\nM 9.421875 75.984375 \r\nL 18.40625 75.984375 \r\nL 18.40625 64.59375 \r\nL 9.421875 64.59375 \r\nz\r\n\" id=\"DejaVuSans-105\"/>\r\n       <path d=\"M 48.78125 52.59375 \r\nL 48.78125 44.1875 \r\nQ 44.96875 46.296875 41.140625 47.34375 \r\nQ 37.3125 48.390625 33.40625 48.390625 \r\nQ 24.65625 48.390625 19.8125 42.84375 \r\nQ 14.984375 37.3125 14.984375 27.296875 \r\nQ 14.984375 17.28125 19.8125 11.734375 \r\nQ 24.65625 6.203125 33.40625 6.203125 \r\nQ 37.3125 6.203125 41.140625 7.25 \r\nQ 44.96875 8.296875 48.78125 10.40625 \r\nL 48.78125 2.09375 \r\nQ 45.015625 0.34375 40.984375 -0.53125 \r\nQ 36.96875 -1.421875 32.421875 -1.421875 \r\nQ 20.0625 -1.421875 12.78125 6.34375 \r\nQ 5.515625 14.109375 5.515625 27.296875 \r\nQ 5.515625 40.671875 12.859375 48.328125 \r\nQ 20.21875 56 33.015625 56 \r\nQ 37.15625 56 41.109375 55.140625 \r\nQ 45.0625 54.296875 48.78125 52.59375 \r\nz\r\n\" id=\"DejaVuSans-99\"/>\r\n      </defs>\r\n      <use xlink:href=\"#DejaVuSans-80\"/>\r\n      <use x=\"58.552734\" xlink:href=\"#DejaVuSans-114\"/>\r\n      <use x=\"99.666016\" xlink:href=\"#DejaVuSans-105\"/>\r\n      <use x=\"127.449219\" xlink:href=\"#DejaVuSans-99\"/>\r\n      <use x=\"182.429688\" xlink:href=\"#DejaVuSans-101\"/>\r\n     </g>\r\n    </g>\r\n   </g>\r\n   <g id=\"line2d_29\">\r\n    <path clip-path=\"url(#p69e05ffaaf)\" d=\"M 97.692898 348.554101 \r\nL 135.268655 427.094481 \r\nL 172.844413 385.51428 \r\nL 285.571686 356.408139 \r\nL 323.147443 340.238061 \r\nL 360.723201 258.001662 \r\nL 398.298958 225.661506 \r\nL 435.874716 325.453989 \r\nL 548.601989 441.416551 \r\nL 586.177746 429.404493 \r\nL 623.753504 507.020869 \r\nL 661.329261 541.209034 \r\nL 698.905019 501.476842 \r\nL 811.632292 373.04022 \r\nL 849.208049 409.538396 \r\nL 886.783807 375.812233 \r\nL 924.359564 402.608363 \r\nL 961.935322 426.632479 \r\nL 1074.662595 360.104157 \r\nL 1112.238352 361.952166 \r\n\" style=\"fill:none;stroke:#000000;stroke-linecap:square;stroke-width:1.5;\"/>\r\n   </g>\r\n   <g id=\"line2d_30\">\r\n    <path clip-path=\"url(#p69e05ffaaf)\" d=\"M 97.692898 196.810481 \r\nL 135.268655 198.84736 \r\nL 172.844413 192.499615 \r\nL 285.571686 138.577139 \r\nL 323.147443 148.998641 \r\nL 360.723201 151.03552 \r\nL 398.298958 153.072398 \r\nL 435.874716 146.724654 \r\nL 548.601989 92.802177 \r\nL 586.177746 103.22368 \r\nL 623.753504 105.260558 \r\nL 661.329261 107.297437 \r\nL 698.905019 100.949692 \r\nL 811.632292 47.027216 \r\nL 849.208049 57.448718 \r\nL 886.783807 195.626019 \r\nL 924.359564 230.530345 \r\nL 961.935322 168.845318 \r\nL 1074.662595 114.922841 \r\nL 1112.238352 125.344343 \r\n\" style=\"fill:none;stroke:#008000;stroke-linecap:square;stroke-width:1.5;\"/>\r\n   </g>\r\n   <g id=\"patch_3\">\r\n    <path d=\"M 46.965625 565.918125 \r\nL 46.965625 22.318125 \r\n\" style=\"fill:none;stroke:#000000;stroke-linecap:square;stroke-linejoin:miter;stroke-width:0.8;\"/>\r\n   </g>\r\n   <g id=\"patch_4\">\r\n    <path d=\"M 1162.965625 565.918125 \r\nL 1162.965625 22.318125 \r\n\" style=\"fill:none;stroke:#000000;stroke-linecap:square;stroke-linejoin:miter;stroke-width:0.8;\"/>\r\n   </g>\r\n   <g id=\"patch_5\">\r\n    <path d=\"M 46.965625 565.918125 \r\nL 1162.965625 565.918125 \r\n\" style=\"fill:none;stroke:#000000;stroke-linecap:square;stroke-linejoin:miter;stroke-width:0.8;\"/>\r\n   </g>\r\n   <g id=\"patch_6\">\r\n    <path d=\"M 46.965625 22.318125 \r\nL 1162.965625 22.318125 \r\n\" style=\"fill:none;stroke:#000000;stroke-linecap:square;stroke-linejoin:miter;stroke-width:0.8;\"/>\r\n   </g>\r\n   <g id=\"text_17\">\r\n    <!-- Linear Regression of Stock Prediction -->\r\n    <g transform=\"translate(493.681563 16.318125)scale(0.12 -0.12)\">\r\n     <defs>\r\n      <path d=\"M 9.8125 72.90625 \r\nL 19.671875 72.90625 \r\nL 19.671875 8.296875 \r\nL 55.171875 8.296875 \r\nL 55.171875 0 \r\nL 9.8125 0 \r\nz\r\n\" id=\"DejaVuSans-76\"/>\r\n      <path d=\"M 54.890625 33.015625 \r\nL 54.890625 0 \r\nL 45.90625 0 \r\nL 45.90625 32.71875 \r\nQ 45.90625 40.484375 42.875 44.328125 \r\nQ 39.84375 48.1875 33.796875 48.1875 \r\nQ 26.515625 48.1875 22.3125 43.546875 \r\nQ 18.109375 38.921875 18.109375 30.90625 \r\nL 18.109375 0 \r\nL 9.078125 0 \r\nL 9.078125 54.6875 \r\nL 18.109375 54.6875 \r\nL 18.109375 46.1875 \r\nQ 21.34375 51.125 25.703125 53.5625 \r\nQ 30.078125 56 35.796875 56 \r\nQ 45.21875 56 50.046875 50.171875 \r\nQ 54.890625 44.34375 54.890625 33.015625 \r\nz\r\n\" id=\"DejaVuSans-110\"/>\r\n      <path id=\"DejaVuSans-32\"/>\r\n      <path d=\"M 44.390625 34.1875 \r\nQ 47.5625 33.109375 50.5625 29.59375 \r\nQ 53.5625 26.078125 56.59375 19.921875 \r\nL 66.609375 0 \r\nL 56 0 \r\nL 46.6875 18.703125 \r\nQ 43.0625 26.03125 39.671875 28.421875 \r\nQ 36.28125 30.8125 30.421875 30.8125 \r\nL 19.671875 30.8125 \r\nL 19.671875 0 \r\nL 9.8125 0 \r\nL 9.8125 72.90625 \r\nL 32.078125 72.90625 \r\nQ 44.578125 72.90625 50.734375 67.671875 \r\nQ 56.890625 62.453125 56.890625 51.90625 \r\nQ 56.890625 45.015625 53.6875 40.46875 \r\nQ 50.484375 35.9375 44.390625 34.1875 \r\nz\r\nM 19.671875 64.796875 \r\nL 19.671875 38.921875 \r\nL 32.078125 38.921875 \r\nQ 39.203125 38.921875 42.84375 42.21875 \r\nQ 46.484375 45.515625 46.484375 51.90625 \r\nQ 46.484375 58.296875 42.84375 61.546875 \r\nQ 39.203125 64.796875 32.078125 64.796875 \r\nz\r\n\" id=\"DejaVuSans-82\"/>\r\n      <path d=\"M 45.40625 27.984375 \r\nQ 45.40625 37.75 41.375 43.109375 \r\nQ 37.359375 48.484375 30.078125 48.484375 \r\nQ 22.859375 48.484375 18.828125 43.109375 \r\nQ 14.796875 37.75 14.796875 27.984375 \r\nQ 14.796875 18.265625 18.828125 12.890625 \r\nQ 22.859375 7.515625 30.078125 7.515625 \r\nQ 37.359375 7.515625 41.375 12.890625 \r\nQ 45.40625 18.265625 45.40625 27.984375 \r\nz\r\nM 54.390625 6.78125 \r\nQ 54.390625 -7.171875 48.1875 -13.984375 \r\nQ 42 -20.796875 29.203125 -20.796875 \r\nQ 24.46875 -20.796875 20.265625 -20.09375 \r\nQ 16.0625 -19.390625 12.109375 -17.921875 \r\nL 12.109375 -9.1875 \r\nQ 16.0625 -11.328125 19.921875 -12.34375 \r\nQ 23.78125 -13.375 27.78125 -13.375 \r\nQ 36.625 -13.375 41.015625 -8.765625 \r\nQ 45.40625 -4.15625 45.40625 5.171875 \r\nL 45.40625 9.625 \r\nQ 42.625 4.78125 38.28125 2.390625 \r\nQ 33.9375 0 27.875 0 \r\nQ 17.828125 0 11.671875 7.65625 \r\nQ 5.515625 15.328125 5.515625 27.984375 \r\nQ 5.515625 40.671875 11.671875 48.328125 \r\nQ 17.828125 56 27.875 56 \r\nQ 33.9375 56 38.28125 53.609375 \r\nQ 42.625 51.21875 45.40625 46.390625 \r\nL 45.40625 54.6875 \r\nL 54.390625 54.6875 \r\nz\r\n\" id=\"DejaVuSans-103\"/>\r\n      <path d=\"M 44.28125 53.078125 \r\nL 44.28125 44.578125 \r\nQ 40.484375 46.53125 36.375 47.5 \r\nQ 32.28125 48.484375 27.875 48.484375 \r\nQ 21.1875 48.484375 17.84375 46.4375 \r\nQ 14.5 44.390625 14.5 40.28125 \r\nQ 14.5 37.15625 16.890625 35.375 \r\nQ 19.28125 33.59375 26.515625 31.984375 \r\nL 29.59375 31.296875 \r\nQ 39.15625 29.25 43.1875 25.515625 \r\nQ 47.21875 21.78125 47.21875 15.09375 \r\nQ 47.21875 7.46875 41.1875 3.015625 \r\nQ 35.15625 -1.421875 24.609375 -1.421875 \r\nQ 20.21875 -1.421875 15.453125 -0.5625 \r\nQ 10.6875 0.296875 5.421875 2 \r\nL 5.421875 11.28125 \r\nQ 10.40625 8.6875 15.234375 7.390625 \r\nQ 20.0625 6.109375 24.8125 6.109375 \r\nQ 31.15625 6.109375 34.5625 8.28125 \r\nQ 37.984375 10.453125 37.984375 14.40625 \r\nQ 37.984375 18.0625 35.515625 20.015625 \r\nQ 33.0625 21.96875 24.703125 23.78125 \r\nL 21.578125 24.515625 \r\nQ 13.234375 26.265625 9.515625 29.90625 \r\nQ 5.8125 33.546875 5.8125 39.890625 \r\nQ 5.8125 47.609375 11.28125 51.796875 \r\nQ 16.75 56 26.8125 56 \r\nQ 31.78125 56 36.171875 55.265625 \r\nQ 40.578125 54.546875 44.28125 53.078125 \r\nz\r\n\" id=\"DejaVuSans-115\"/>\r\n      <path d=\"M 30.609375 48.390625 \r\nQ 23.390625 48.390625 19.1875 42.75 \r\nQ 14.984375 37.109375 14.984375 27.296875 \r\nQ 14.984375 17.484375 19.15625 11.84375 \r\nQ 23.34375 6.203125 30.609375 6.203125 \r\nQ 37.796875 6.203125 41.984375 11.859375 \r\nQ 46.1875 17.53125 46.1875 27.296875 \r\nQ 46.1875 37.015625 41.984375 42.703125 \r\nQ 37.796875 48.390625 30.609375 48.390625 \r\nz\r\nM 30.609375 56 \r\nQ 42.328125 56 49.015625 48.375 \r\nQ 55.71875 40.765625 55.71875 27.296875 \r\nQ 55.71875 13.875 49.015625 6.21875 \r\nQ 42.328125 -1.421875 30.609375 -1.421875 \r\nQ 18.84375 -1.421875 12.171875 6.21875 \r\nQ 5.515625 13.875 5.515625 27.296875 \r\nQ 5.515625 40.765625 12.171875 48.375 \r\nQ 18.84375 56 30.609375 56 \r\nz\r\n\" id=\"DejaVuSans-111\"/>\r\n      <path d=\"M 37.109375 75.984375 \r\nL 37.109375 68.5 \r\nL 28.515625 68.5 \r\nQ 23.6875 68.5 21.796875 66.546875 \r\nQ 19.921875 64.59375 19.921875 59.515625 \r\nL 19.921875 54.6875 \r\nL 34.71875 54.6875 \r\nL 34.71875 47.703125 \r\nL 19.921875 47.703125 \r\nL 19.921875 0 \r\nL 10.890625 0 \r\nL 10.890625 47.703125 \r\nL 2.296875 47.703125 \r\nL 2.296875 54.6875 \r\nL 10.890625 54.6875 \r\nL 10.890625 58.5 \r\nQ 10.890625 67.625 15.140625 71.796875 \r\nQ 19.390625 75.984375 28.609375 75.984375 \r\nz\r\n\" id=\"DejaVuSans-102\"/>\r\n      <path d=\"M 53.515625 70.515625 \r\nL 53.515625 60.890625 \r\nQ 47.90625 63.578125 42.921875 64.890625 \r\nQ 37.9375 66.21875 33.296875 66.21875 \r\nQ 25.25 66.21875 20.875 63.09375 \r\nQ 16.5 59.96875 16.5 54.203125 \r\nQ 16.5 49.359375 19.40625 46.890625 \r\nQ 22.3125 44.4375 30.421875 42.921875 \r\nL 36.375 41.703125 \r\nQ 47.40625 39.59375 52.65625 34.296875 \r\nQ 57.90625 29 57.90625 20.125 \r\nQ 57.90625 9.515625 50.796875 4.046875 \r\nQ 43.703125 -1.421875 29.984375 -1.421875 \r\nQ 24.8125 -1.421875 18.96875 -0.25 \r\nQ 13.140625 0.921875 6.890625 3.21875 \r\nL 6.890625 13.375 \r\nQ 12.890625 10.015625 18.65625 8.296875 \r\nQ 24.421875 6.59375 29.984375 6.59375 \r\nQ 38.421875 6.59375 43.015625 9.90625 \r\nQ 47.609375 13.234375 47.609375 19.390625 \r\nQ 47.609375 24.75 44.3125 27.78125 \r\nQ 41.015625 30.8125 33.5 32.328125 \r\nL 27.484375 33.5 \r\nQ 16.453125 35.6875 11.515625 40.375 \r\nQ 6.59375 45.0625 6.59375 53.421875 \r\nQ 6.59375 63.09375 13.40625 68.65625 \r\nQ 20.21875 74.21875 32.171875 74.21875 \r\nQ 37.3125 74.21875 42.625 73.28125 \r\nQ 47.953125 72.359375 53.515625 70.515625 \r\nz\r\n\" id=\"DejaVuSans-83\"/>\r\n      <path d=\"M 9.078125 75.984375 \r\nL 18.109375 75.984375 \r\nL 18.109375 31.109375 \r\nL 44.921875 54.6875 \r\nL 56.390625 54.6875 \r\nL 27.390625 29.109375 \r\nL 57.625 0 \r\nL 45.90625 0 \r\nL 18.109375 26.703125 \r\nL 18.109375 0 \r\nL 9.078125 0 \r\nz\r\n\" id=\"DejaVuSans-107\"/>\r\n      <path d=\"M 45.40625 46.390625 \r\nL 45.40625 75.984375 \r\nL 54.390625 75.984375 \r\nL 54.390625 0 \r\nL 45.40625 0 \r\nL 45.40625 8.203125 \r\nQ 42.578125 3.328125 38.25 0.953125 \r\nQ 33.9375 -1.421875 27.875 -1.421875 \r\nQ 17.96875 -1.421875 11.734375 6.484375 \r\nQ 5.515625 14.40625 5.515625 27.296875 \r\nQ 5.515625 40.1875 11.734375 48.09375 \r\nQ 17.96875 56 27.875 56 \r\nQ 33.9375 56 38.25 53.625 \r\nQ 42.578125 51.265625 45.40625 46.390625 \r\nz\r\nM 14.796875 27.296875 \r\nQ 14.796875 17.390625 18.875 11.75 \r\nQ 22.953125 6.109375 30.078125 6.109375 \r\nQ 37.203125 6.109375 41.296875 11.75 \r\nQ 45.40625 17.390625 45.40625 27.296875 \r\nQ 45.40625 37.203125 41.296875 42.84375 \r\nQ 37.203125 48.484375 30.078125 48.484375 \r\nQ 22.953125 48.484375 18.875 42.84375 \r\nQ 14.796875 37.203125 14.796875 27.296875 \r\nz\r\n\" id=\"DejaVuSans-100\"/>\r\n     </defs>\r\n     <use xlink:href=\"#DejaVuSans-76\"/>\r\n     <use x=\"55.712891\" xlink:href=\"#DejaVuSans-105\"/>\r\n     <use x=\"83.496094\" xlink:href=\"#DejaVuSans-110\"/>\r\n     <use x=\"146.875\" xlink:href=\"#DejaVuSans-101\"/>\r\n     <use x=\"208.398438\" xlink:href=\"#DejaVuSans-97\"/>\r\n     <use x=\"269.677734\" xlink:href=\"#DejaVuSans-114\"/>\r\n     <use x=\"310.791016\" xlink:href=\"#DejaVuSans-32\"/>\r\n     <use x=\"342.578125\" xlink:href=\"#DejaVuSans-82\"/>\r\n     <use x=\"407.560547\" xlink:href=\"#DejaVuSans-101\"/>\r\n     <use x=\"469.083984\" xlink:href=\"#DejaVuSans-103\"/>\r\n     <use x=\"532.560547\" xlink:href=\"#DejaVuSans-114\"/>\r\n     <use x=\"571.423828\" xlink:href=\"#DejaVuSans-101\"/>\r\n     <use x=\"632.947266\" xlink:href=\"#DejaVuSans-115\"/>\r\n     <use x=\"685.046875\" xlink:href=\"#DejaVuSans-115\"/>\r\n     <use x=\"737.146484\" xlink:href=\"#DejaVuSans-105\"/>\r\n     <use x=\"764.929688\" xlink:href=\"#DejaVuSans-111\"/>\r\n     <use x=\"826.111328\" xlink:href=\"#DejaVuSans-110\"/>\r\n     <use x=\"889.490234\" xlink:href=\"#DejaVuSans-32\"/>\r\n     <use x=\"921.277344\" xlink:href=\"#DejaVuSans-111\"/>\r\n     <use x=\"982.458984\" xlink:href=\"#DejaVuSans-102\"/>\r\n     <use x=\"1017.664062\" xlink:href=\"#DejaVuSans-32\"/>\r\n     <use x=\"1049.451172\" xlink:href=\"#DejaVuSans-83\"/>\r\n     <use x=\"1112.927734\" xlink:href=\"#DejaVuSans-116\"/>\r\n     <use x=\"1152.136719\" xlink:href=\"#DejaVuSans-111\"/>\r\n     <use x=\"1213.318359\" xlink:href=\"#DejaVuSans-99\"/>\r\n     <use x=\"1268.298828\" xlink:href=\"#DejaVuSans-107\"/>\r\n     <use x=\"1326.208984\" xlink:href=\"#DejaVuSans-32\"/>\r\n     <use x=\"1357.996094\" xlink:href=\"#DejaVuSans-80\"/>\r\n     <use x=\"1416.548828\" xlink:href=\"#DejaVuSans-114\"/>\r\n     <use x=\"1455.412109\" xlink:href=\"#DejaVuSans-101\"/>\r\n     <use x=\"1516.935547\" xlink:href=\"#DejaVuSans-100\"/>\r\n     <use x=\"1580.412109\" xlink:href=\"#DejaVuSans-105\"/>\r\n     <use x=\"1608.195312\" xlink:href=\"#DejaVuSans-99\"/>\r\n     <use x=\"1663.175781\" xlink:href=\"#DejaVuSans-116\"/>\r\n     <use x=\"1702.384766\" xlink:href=\"#DejaVuSans-105\"/>\r\n     <use x=\"1730.167969\" xlink:href=\"#DejaVuSans-111\"/>\r\n     <use x=\"1791.349609\" xlink:href=\"#DejaVuSans-110\"/>\r\n    </g>\r\n   </g>\r\n   <g id=\"legend_1\">\r\n    <g id=\"patch_7\">\r\n     <path d=\"M 1058.56875 59.674375 \r\nL 1155.965625 59.674375 \r\nQ 1157.965625 59.674375 1157.965625 57.674375 \r\nL 1157.965625 29.318125 \r\nQ 1157.965625 27.318125 1155.965625 27.318125 \r\nL 1058.56875 27.318125 \r\nQ 1056.56875 27.318125 1056.56875 29.318125 \r\nL 1056.56875 57.674375 \r\nQ 1056.56875 59.674375 1058.56875 59.674375 \r\nz\r\n\" style=\"fill:#ffffff;opacity:0.8;stroke:#cccccc;stroke-linejoin:miter;\"/>\r\n    </g>\r\n    <g id=\"line2d_31\">\r\n     <path d=\"M 1060.56875 35.416562 \r\nL 1080.56875 35.416562 \r\n\" style=\"fill:none;stroke:#000000;stroke-linecap:square;stroke-width:1.5;\"/>\r\n    </g>\r\n    <g id=\"line2d_32\"/>\r\n    <g id=\"text_18\">\r\n     <!-- Actual Data -->\r\n     <g transform=\"translate(1088.56875 38.916562)scale(0.1 -0.1)\">\r\n      <defs>\r\n       <path d=\"M 34.1875 63.1875 \r\nL 20.796875 26.90625 \r\nL 47.609375 26.90625 \r\nz\r\nM 28.609375 72.90625 \r\nL 39.796875 72.90625 \r\nL 67.578125 0 \r\nL 57.328125 0 \r\nL 50.6875 18.703125 \r\nL 17.828125 18.703125 \r\nL 11.1875 0 \r\nL 0.78125 0 \r\nz\r\n\" id=\"DejaVuSans-65\"/>\r\n       <path d=\"M 8.5 21.578125 \r\nL 8.5 54.6875 \r\nL 17.484375 54.6875 \r\nL 17.484375 21.921875 \r\nQ 17.484375 14.15625 20.5 10.265625 \r\nQ 23.53125 6.390625 29.59375 6.390625 \r\nQ 36.859375 6.390625 41.078125 11.03125 \r\nQ 45.3125 15.671875 45.3125 23.6875 \r\nL 45.3125 54.6875 \r\nL 54.296875 54.6875 \r\nL 54.296875 0 \r\nL 45.3125 0 \r\nL 45.3125 8.40625 \r\nQ 42.046875 3.421875 37.71875 1 \r\nQ 33.40625 -1.421875 27.6875 -1.421875 \r\nQ 18.265625 -1.421875 13.375 4.4375 \r\nQ 8.5 10.296875 8.5 21.578125 \r\nz\r\nM 31.109375 56 \r\nz\r\n\" id=\"DejaVuSans-117\"/>\r\n       <path d=\"M 9.421875 75.984375 \r\nL 18.40625 75.984375 \r\nL 18.40625 0 \r\nL 9.421875 0 \r\nz\r\n\" id=\"DejaVuSans-108\"/>\r\n      </defs>\r\n      <use xlink:href=\"#DejaVuSans-65\"/>\r\n      <use x=\"66.658203\" xlink:href=\"#DejaVuSans-99\"/>\r\n      <use x=\"121.638672\" xlink:href=\"#DejaVuSans-116\"/>\r\n      <use x=\"160.847656\" xlink:href=\"#DejaVuSans-117\"/>\r\n      <use x=\"224.226562\" xlink:href=\"#DejaVuSans-97\"/>\r\n      <use x=\"285.505859\" xlink:href=\"#DejaVuSans-108\"/>\r\n      <use x=\"313.289062\" xlink:href=\"#DejaVuSans-32\"/>\r\n      <use x=\"345.076172\" xlink:href=\"#DejaVuSans-68\"/>\r\n      <use x=\"422.078125\" xlink:href=\"#DejaVuSans-97\"/>\r\n      <use x=\"483.357422\" xlink:href=\"#DejaVuSans-116\"/>\r\n      <use x=\"522.566406\" xlink:href=\"#DejaVuSans-97\"/>\r\n     </g>\r\n    </g>\r\n    <g id=\"line2d_33\">\r\n     <path d=\"M 1060.56875 50.094687 \r\nL 1080.56875 50.094687 \r\n\" style=\"fill:none;stroke:#008000;stroke-linecap:square;stroke-width:1.5;\"/>\r\n    </g>\r\n    <g id=\"line2d_34\"/>\r\n    <g id=\"text_19\">\r\n     <!-- Linear model -->\r\n     <g transform=\"translate(1088.56875 53.594687)scale(0.1 -0.1)\">\r\n      <defs>\r\n       <path d=\"M 52 44.1875 \r\nQ 55.375 50.25 60.0625 53.125 \r\nQ 64.75 56 71.09375 56 \r\nQ 79.640625 56 84.28125 50.015625 \r\nQ 88.921875 44.046875 88.921875 33.015625 \r\nL 88.921875 0 \r\nL 79.890625 0 \r\nL 79.890625 32.71875 \r\nQ 79.890625 40.578125 77.09375 44.375 \r\nQ 74.3125 48.1875 68.609375 48.1875 \r\nQ 61.625 48.1875 57.5625 43.546875 \r\nQ 53.515625 38.921875 53.515625 30.90625 \r\nL 53.515625 0 \r\nL 44.484375 0 \r\nL 44.484375 32.71875 \r\nQ 44.484375 40.625 41.703125 44.40625 \r\nQ 38.921875 48.1875 33.109375 48.1875 \r\nQ 26.21875 48.1875 22.15625 43.53125 \r\nQ 18.109375 38.875 18.109375 30.90625 \r\nL 18.109375 0 \r\nL 9.078125 0 \r\nL 9.078125 54.6875 \r\nL 18.109375 54.6875 \r\nL 18.109375 46.1875 \r\nQ 21.1875 51.21875 25.484375 53.609375 \r\nQ 29.78125 56 35.6875 56 \r\nQ 41.65625 56 45.828125 52.96875 \r\nQ 50 49.953125 52 44.1875 \r\nz\r\n\" id=\"DejaVuSans-109\"/>\r\n      </defs>\r\n      <use xlink:href=\"#DejaVuSans-76\"/>\r\n      <use x=\"55.712891\" xlink:href=\"#DejaVuSans-105\"/>\r\n      <use x=\"83.496094\" xlink:href=\"#DejaVuSans-110\"/>\r\n      <use x=\"146.875\" xlink:href=\"#DejaVuSans-101\"/>\r\n      <use x=\"208.398438\" xlink:href=\"#DejaVuSans-97\"/>\r\n      <use x=\"269.677734\" xlink:href=\"#DejaVuSans-114\"/>\r\n      <use x=\"310.791016\" xlink:href=\"#DejaVuSans-32\"/>\r\n      <use x=\"342.578125\" xlink:href=\"#DejaVuSans-109\"/>\r\n      <use x=\"439.990234\" xlink:href=\"#DejaVuSans-111\"/>\r\n      <use x=\"501.171875\" xlink:href=\"#DejaVuSans-100\"/>\r\n      <use x=\"564.648438\" xlink:href=\"#DejaVuSans-101\"/>\r\n      <use x=\"626.171875\" xlink:href=\"#DejaVuSans-108\"/>\r\n     </g>\r\n    </g>\r\n   </g>\r\n  </g>\r\n </g>\r\n <defs>\r\n  <clipPath id=\"p69e05ffaaf\">\r\n   <rect height=\"543.6\" width=\"1116\" x=\"46.965625\" y=\"22.318125\"/>\r\n  </clipPath>\r\n </defs>\r\n</svg>\r\n",
      "image/png": "[encoded data removed]"
     },
     "metadata": {
      "needs_background": "light"
     }
    }
   ],
   "source": [
    "fig= plt.figure(figsize=(20,10))\n",
    "dates = viz_data['Date'][train_pct_index:]\n",
    "plt.plot(dates, viz_data['Close'][train_pct_index:], c='k', label='Actual Data')\n",
    "plt.plot(dates, preds, c='g', label='Linear model')\n",
    "plt.xlabel('Date')\n",
    "plt.ylabel('Price')\n",
    "plt.title('Linear Regression of Stock Prediction')\n",
    "plt.grid()\n",
    "plt.legend()\n",
    "plt.show()"
   ]
  },
  {
   "cell_type": "code",
   "execution_count": 11,
   "metadata": {},
   "outputs": [],
   "source": [
    "def extract_news2():\n",
    "    url = \"https://google-news.p.rapidapi.com/v1/topic_headlines\"\n",
    "    querystring = {\"lang\": \"en\", \"topic\": \"CAAqJAgKIh5DQkFTRUFvS0wyMHZNREkxY25NeWVoSUNaVzRvQUFQAQ\"}\n",
    "    headers = {\n",
    "        'x-rapidapi-host': \"google-news.p.rapidapi.com\",\n",
    "        'x-rapidapi-key': \"ec7cf83d7amsh28327258127105bp16fa52jsn9cf67d1e4463\"\n",
    "    }\n",
    "    response = requests.request(\n",
    "        \"GET\", url, headers=headers, params=querystring)\n",
    "    json_d = response.json()\n",
    "    return json_d"
   ]
  },
  {
   "cell_type": "code",
   "execution_count": 12,
   "metadata": {},
   "outputs": [],
   "source": [
    "json_d = extract_news2()"
   ]
  },
  {
   "cell_type": "code",
   "execution_count": 13,
   "metadata": {},
   "outputs": [
    {
     "output_type": "execute_result",
     "data": {
      "text/plain": [
       "dict_keys(['feed', 'articles'])"
      ]
     },
     "metadata": {},
     "execution_count": 13
    }
   ],
   "source": [
    "json_d.keys()"
   ]
  },
  {
   "cell_type": "code",
   "execution_count": 14,
   "metadata": {
    "tags": []
   },
   "outputs": [
    {
     "output_type": "execute_result",
     "data": {
      "text/plain": [
       "{'title': 'Gold - Gold - Google News',\n",
       " 'updated': 'Fri, 09 Oct 2020 12:49:08 GMT',\n",
       " 'link': 'https://news.google.com/topics/CAAqJAgKIh5DQkFTRUFvS0wyMHZNREkxY25NeWVoSUNaVzRvQUFQAQ?ceid=US:en&hl=en-US&gl=US',\n",
       " 'language': 'en-US',\n",
       " 'subtitle': 'Google News',\n",
       " 'rights': '2020 Google Inc.'}"
      ]
     },
     "metadata": {},
     "execution_count": 14
    }
   ],
   "source": [
    "#feed returns the category and variables of the google search\n",
    "json_d[\"feed\"]"
   ]
  },
  {
   "cell_type": "code",
   "execution_count": 15,
   "metadata": {},
   "outputs": [],
   "source": [
    "from newspaper import Article"
   ]
  },
  {
   "cell_type": "code",
   "execution_count": 78,
   "metadata": {
    "tags": []
   },
   "outputs": [
    {
     "output_type": "stream",
     "name": "stdout",
     "text": [
      "[\"Even Europe's gold standard nations are struggling with Covid surges, and it's not winter yet - CNN\", 'Gold Standard: What’s gone right, gone wrong, and what should change? - Niners Nation', 'Gold, silver bulls stabilize markets ahead of FOMC minutes - Kitco NEWS', 'Gold Price Forecast - Gold Markets Continue to Try to Fill Gap - FX Empire', 'Gold price holding on to $1900 as U.S. weekly jobless claims rise more than expected - Kitco NEWS', 'Gold Price Futures (GC) Technical Analysis – Trend Changes to Up on Trade Through $1927.00 - FX Empire', 'Why Breast Self-Exams Are No Longer the Gold Standard of Breast Cancer Prevention - Well+Good', 'Some gold with your gas and groceries? Costco enters the gold bullion market - Kitco NEWS', \"Gold Market Sells Off Again as Interest Rates Rise Despite ECB 'Smothering' Euro Bond Yields | Gold News - BullionVault\", 'Gold Price Forecast - Gold Markets Continue to Grind - FX Empire', 'G999: GSB Gold Standard Banking introduces revolutionary block chain ecosystem - RealWire', \"Market volatility, U.S. election 'don't deter $2000 gold price, $30 silver price' near year-end: RBC Wealth Management - Kitco NEWS\", 'Gold price: 2020 ETF inflows set new record - MINING.COM - MINING.com', 'Gold Price Futures (GC) Technical Analysis – Strengthens Over $1902.10, Weakens Under $1880.00 - FX Empire', 'Gold settles higher on renewed prospects for another round of U.S. stimulus - MarketWatch', 'Gold mining stocks are a buy ahead of the U.S. election, strategist says - CNBC', 'Gold, silver see price gains amid rising equity markets - Kitco NEWS', \"Venezuela's Maduro wins UK court appeal over $1 billion in gold reserves held by the Bank of England | Markets - Business Insider\", 'Gold Price Forecast - Gold Markets Gapped Lower to Kick off the Day - FX Empire', 'Gold and Silver Prices Shrug Off Rising Real Rates as Mining M&A Activity Returns | Gold News - BullionVault', \"BlueAndGold - The Gold Standard: Insights On Notre Dame's Georgia Commits - Irish Illustrated\", \"Tesla's Model 3 Lost In The World's Most Advanced EV Market In A Peak Month - Seeking Alpha\", \"Gold price holding above $1900 as Fed's Powell sees risks of doing 'too little' - Kitco NEWS\", 'Roombas are the Gold Standard for Robot Vacuums — These are the Three You Should Get - Yahoo Entertainment', 'Gold Forecast - How Gold Prices Could Exceed $10,000 - FX Empire', 'PCR tests remain gold standard, but many factors affect results - The Jakarta Post - Jakarta Post', \"Dutch parliament aims for 'gold standard' in science - insidehighered.com\", 'The most secure, reliable and (frankly) professional communications suite today - TechHQ', 'A public health giant gives a scathing indictment of Trump’s pandemic response - The Washington Post', 'Gold price sees support from weaker U.S. dollar, ETF inflows: Commerzbank - Kitco NEWS', 'MicroCal PEAQ-ITC - The Gold Standard for measuring affinity and stoichiometry - Technology Networks', \"The Q2 Was Disastrous. But What's Next for the US Economy – and Gold? - FX Empire\", \"Even Europe's gold standard nations are struggling with Covid surges, and it's not winter yet - KTVZ\", 'Trump vs. Biden: $4K gold target as Brandt eyes Bitcoin ‘big buy signal’ - Cointelegraph', \"Remembering the past: Bobby 'The Brain' Heenan was gold standard in pro wrestling - Charleston Post Courier\", \"Sensing The Earth's Wobble In Time - Hackaday\", 'Belize Officially Reopens International Airport to Leisure Travel - Travel Agent', 'Fundamentals shape gold and silver futures - Kitco NEWS', 'Billionaire investor Leon Cooperman praised tech stocks, criticized Trump, and disclosed his first gold bet in a new interview. Here are the best 12 quotes. | Markets - Business Insider', 'Gold Price Prediction - Prices Consolidate Following ECB and Fed Chair Comments - FX Empire', '6 places to celebrate National Pierogi Day in metro Detroit - Detroit Free Press', \"CenturyLink Field Achieves GBAC STAR™ Facility Accreditation, Industry's Gold Standard for Venue Sanitization Amid COVID-19 - Seahawks.com\", 'Riverside Prepares for Fall Drill Program at the Cuarentas Project and Samples 9.1 g/t Gold over 3.4 m - Stock Day Media', 'Four colleges score top marks for diversity - VeterinaryPracticeNews.com', \"Gold Up, Stocks Down with Commodities as Trump Catches Covid, 'Deflation Pressures Grow' | Gold News - BullionVault\", 'New AMD Ryzen CPUs coming next month -- Highly recommended for Premiere Pro - Stark Insider', 'Gold, silver see solid price gains on bullish news - Kitco NEWS', 'In New Zealand, microbes are extracting gold from electronic waste - CNBC', 'Gold Price Prediction - Prices Rise on Dollar Weakness - FX Empire', 'Gilead Shares Gain Following Positive Data From Final Remdesivir Trial - TheStreet', 'Tombstone Exploration Corporation Announces Construction Update & Estimated Production Start as of October 8, 2020 on the Bonanza Mine Project - GlobeNewswire', 'Gold | Orphan Product Marketing Initiative, 2020 - MM+M Awards - MM&M - Medical Marketing and Media', 'The ‘gold standard’ report on corporate diversity has major shortcomings - The Washington Post', 'Altair (ALTR) Acquires M-Base Engineering + Software GmbH - StreetInsider.com', 'Gold Plunge: Normal and Healthy | Gold News - BullionVault', 'Maple Gold Mines up 30% on Agnico joint venture news – Resource World Magazine - Resource World Magazine', 'Gold and silver edge higher leading into the US open - Kitco NEWS', 'Certification bolsters sporting venues’ cleaning efforts - New York Business Journal', 'Cycles Analysis Points to Interesting Gold Price Action - FX Empire', 'Alleged price-gouger sold $5 masks for $19.95: Feds - Talk Radio 1210 WPHT', \"Battlestar Galactica Revisited: 1.05 You Can't Go Home Again - The Digital Fix\", 'Kaz Minerals suspends operations at Kyrgyz copper and gold mine - reuters.com', 'UBS says you should buy gold now - CNBC', 'Study confirms oral challenge as gold standard for diagnosing ingestion allergies - Contemporary Pediatrics', 'New Oxford High School lands Gold Standard Challenge Grant - Gettysburg Times', 'Stephen Reed: GOP needs a new Reagan Coalition (Opinion) - Charleston Gazette-Mail', 'Interview: Nova Minerals (NVA.AX) CEO Chris Gerteisen Talks About the 3.3 Million Ounce Interim Gold Resource - Yahoo Finance Australia', \"Gold price steady below $1900 as Fed's minutes reveal officials expect more fiscal stimulus this year - Kitco NEWS\", \"Orea Provides Update on the Status of the Montagne d'Or Gold Project, French Guiana, France - Benzinga\", 'Price of Gold Fundamental Daily Forecast - Weaker US Dollar, Stimulus Hopes Underpinning Prices - FX Empire']\n"
     ]
    }
   ],
   "source": [
    "gold = {\"title\": [], \"link\": []}\n",
    "\n",
    "for i in json_d[\"articles\"]:\n",
    "    if \"gold\" or \"Gold\" in i[\"title\"]:\n",
    "        gold[\"title\"].append(i[\"title\"])\n",
    "        gold[\"link\"].append(i[\"link\"])\n",
    "print(gold[\"title\"])"
   ]
  },
  {
   "cell_type": "code",
   "execution_count": 17,
   "metadata": {},
   "outputs": [
    {
     "output_type": "execute_result",
     "data": {
      "text/plain": [
       "['https://news.google.com/__i/rss/rd/articles/CBMiaWh0dHBzOi8vd3d3LmNubi5jb20vMjAyMC8xMC8wNy9ldXJvcGUvZXVyb3Blcy1nb2xkLXN0YW5kYXJkLWNvdW50cmllcy1zdHJ1Z2dsaW5nLWFuYWx5c2lzLWludGwvaW5kZXguaHRtbNIBbWh0dHBzOi8vYW1wLmNubi5jb20vY25uLzIwMjAvMTAvMDcvZXVyb3BlL2V1cm9wZXMtZ29sZC1zdGFuZGFyZC1jb3VudHJpZXMtc3RydWdnbGluZy1hbmFseXNpcy1pbnRsL2luZGV4Lmh0bWw?oc=5',\n",
       " 'https://news.google.com/__i/rss/rd/articles/CBMicGh0dHBzOi8vd3d3Lm5pbmVyc25hdGlvbi5jb20vMjAyMC8xMC84LzIxNTA4MjEzL2dvbGQtc3RhbmRhcmQtd2hhdHMtZ29uZS1yaWdodC1nb25lLXdyb25nLWFuZC13aGF0LXNob3VsZC1jaGFuZ2XSAX1odHRwczovL3d3dy5uaW5lcnNuYXRpb24uY29tL3BsYXRmb3JtL2FtcC8yMDIwLzEwLzgvMjE1MDgyMTMvZ29sZC1zdGFuZGFyZC13aGF0cy1nb25lLXJpZ2h0LWdvbmUtd3JvbmctYW5kLXdoYXQtc2hvdWxkLWNoYW5nZQ?oc=5',\n",
       " 'https://news.google.com/__i/rss/rd/articles/CBMiZGh0dHBzOi8vd3d3LmtpdGNvLmNvbS9uZXdzLzIwMjAtMTAtMDcvR29sZC1zaWx2ZXItYnVsbHMtc3RhYmlsaXplLW1hcmtldHMtYWhlYWQtb2YtRk9NQy1taW51dGVzLmh0bWzSAQA?oc=5',\n",
       " 'https://news.google.com/__i/rss/rd/articles/CBMibmh0dHBzOi8vd3d3LmZ4ZW1waXJlLmNvbS9mb3JlY2FzdHMvYXJ0aWNsZS9nb2xkLXByaWNlLWZvcmVjYXN0LWdvbGQtbWFya2V0cy1jb250aW51ZS10by10cnktdG8tZmlsbC1nYXAtNjc3MDIy0gEA?oc=5',\n",
       " 'https://news.google.com/__i/rss/rd/articles/CBMifmh0dHBzOi8vd3d3LmtpdGNvLmNvbS9uZXdzLzIwMjAtMTAtMDgvR29sZC1wcmljZS1ob2xkaW5nLW9uLXRvLTEtOTAwLWFzLVUtUy13ZWVrbHktam9ibGVzcy1jbGFpbXMtcmlzZS1tb3JlLXRoYW4tZXhwZWN0ZWQuaHRtbNIBAA?oc=5']"
      ]
     },
     "metadata": {},
     "execution_count": 17
    }
   ],
   "source": [
    "gold[\"link\"][:5]\n"
   ]
  },
  {
   "cell_type": "code",
   "execution_count": 18,
   "metadata": {},
   "outputs": [
    {
     "output_type": "execute_result",
     "data": {
      "text/plain": [
       "70"
      ]
     },
     "metadata": {},
     "execution_count": 18
    }
   ],
   "source": [
    "len(gold[\"link\"])"
   ]
  },
  {
   "cell_type": "code",
   "execution_count": 19,
   "metadata": {},
   "outputs": [],
   "source": [
    "url = gold[\"link\"][1]\n",
    "article = Article(url)"
   ]
  },
  {
   "cell_type": "code",
   "execution_count": 20,
   "metadata": {},
   "outputs": [],
   "source": [
    "article.download()\n",
    "article.html\n",
    "article.parse()"
   ]
  },
  {
   "cell_type": "code",
   "execution_count": 21,
   "metadata": {},
   "outputs": [
    {
     "output_type": "execute_result",
     "data": {
      "text/plain": [
       "['Rob Guerrera', 'Oct']"
      ]
     },
     "metadata": {},
     "execution_count": 21
    }
   ],
   "source": [
    "article.authors"
   ]
  },
  {
   "cell_type": "code",
   "execution_count": 162,
   "metadata": {},
   "outputs": [
    {
     "output_type": "execute_result",
     "data": {
      "text/plain": [
       "\"Editor's Note: With so much market volatility, stay on top of daily news! Get caught up in minutes with our speedy summary of today's must-read news and expert opinions. Sign up here!\\n\\n(Kitco News) - Gold and silver futures prices are lower in midday U.S. trading Wednesday, but the cash markets show firmer prices. The reason is that the Comex gold and silver futures markets officially closed in early afternoon Tuesday—before the late-afternoon sell offs that were reflected in cash market prices Tuesday afternoon. So futures prices today are reflecting the Tuesday afternoon price pressure. The gold market sold off sharply Tuesday afternoon following President Trump’s tweet calling for an end to U.S. stimulus package discussions in Congress. Lately, the gold market has been acting more like a raw commodity than a safe-haven asset. The yellow metal on many days moves in tandem with the U.S. stock indexes—like Tuesday. December gold futures were last down $19.90 at $1,888.80 and December Comex silver was last down $0.131 at $23.795 an ounce.\\n\\n(NOTE: If you trade gold-related or mining stocks, make sure to check out my new and unique analytical charts on the top 10 mining stocks traded on the U.S. stock exchanges. These valuable daily charts will include support and resistance lines and other helpful technical information to guide you in your trading and investing decisions on these stocks.—Jim)\\n\\nGlobal stock markets were mixed overnight. U.S. stock indexes are higher at midday. After selling off Tuesday afternoon following a tweet from President Trump that called for an end to additional Covid stimulus package negotiations with the Democrats, U.S. stock indexes rebounded overnight when Trump in another, later series of tweets walked back his initial tweet by saying he does want certain stimulus measures passed by Congress, including stimulus checks for Americans. The matter remains up in the air, with there still being doubts Congress can soon agree on a stimulus plan for Americans and U.S. businesses.\\n\\nThe U.S. data point at mid-week is the FOMC minutes from the last meeting, to be released Wednesday afternoon. Fed Chairman Jerome Powell in a speech on Tuesday said the U.S. economy is recovering from the Covid-19 lockdowns faster than expected, but added that the pace of the recovery has slowed recently and that it could be a long “slog” before the U.S. economy fully recovers.\\n\\nThe important outside markets early today see the U.S. dollar index slightly lower. Nymex crude oil prices are lower and trading around $39.35 a barrel. The 10-year U.S. Treasury note yield is presently trading around 0.76%.\\n\\nTechnically, December gold futures bulls still have the overall near-term technical advantage. A two-month-old downtrend is in place on the daily bar chart, and trendline resistance turned back this week’s rally. Bulls’ next upside price objective is to produce a close in October futures above solid resistance at this week’s high of $1,927.00. Bears' next near-term downside price objective is pushing futures prices below solid technical support at the September low of $1,851.00. First resistance is seen at today’s high of $1,902.40 and then at $1,927.00. First support is seen at today’s low of $1,877.10 and then at $1,851.00. Wyckoff's Market Rating: 6.0\\n\\nDecember silver futures bulls have the overall near-term technical advantage. However, prices are still in a two-month-old downtrend on the daily bar chart. Silver bulls' next upside price objective is closing prices above solid technical resistance at $25.00 an ounce. The next downside price objective for the bears is closing prices below solid support at the September low of $21.81. First resistance is seen at this week’s high of $24.675 and then at $25.00. Next support is seen at this week’s low of $22.965 and then at $22.50. Wyckoff's Market Rating: 6.0.\\n\\nDecember N.Y. copper closed up 685 points at 303.20 cents today. Prices closed nearer the session high today and hit a two-week high. The copper bulls have the firm overall near-term technical advantage amid choppy and more volatile trading at higher levels, which is not bullish. Copper bulls' next upside price objective is pushing and closing prices above solid technical resistance at the September high of 312.10 cents. The next downside price objective for the bears is closing prices below solid technical support at the August low of 279.60 cents. First resistance is seen at today’s high of 305.50 cents and then at 309.00 cents. First support is seen at 300.00 cents and then at 295.00 cents. Wyckoff's Market Rating: 7.0.\""
      ]
     },
     "metadata": {},
     "execution_count": 162
    }
   ],
   "source": [
    "article.text"
   ]
  },
  {
   "cell_type": "code",
   "execution_count": 22,
   "metadata": {},
   "outputs": [],
   "source": [
    "article.nlp()"
   ]
  },
  {
   "cell_type": "code",
   "execution_count": 23,
   "metadata": {},
   "outputs": [
    {
     "output_type": "execute_result",
     "data": {
      "text/plain": [
       "['hit',\n",
       " 'kinlaw',\n",
       " 'levin',\n",
       " 'change',\n",
       " 'kyle',\n",
       " 'gone',\n",
       " 'wrong',\n",
       " 'whats',\n",
       " 'shanahan',\n",
       " 'team',\n",
       " 'right',\n",
       " 'week',\n",
       " 'gold',\n",
       " 'start',\n",
       " 'standard']"
      ]
     },
     "metadata": {},
     "execution_count": 23
    }
   ],
   "source": [
    "article.keywords"
   ]
  },
  {
   "cell_type": "code",
   "execution_count": 100,
   "metadata": {},
   "outputs": [
    {
     "output_type": "execute_result",
     "data": {
      "text/plain": [
       "\"(Kitco News) - Gold and silver futures prices are lower in midday U.S. trading Wednesday, but the cash markets show firmer prices.\\nThe reason is that the Comex gold and silver futures markets officially closed in early afternoon Tuesday—before the late-afternoon sell offs that were reflected in cash market prices Tuesday afternoon.\\nBears' next near-term downside price objective is pushing futures prices below solid technical support at the September low of $1,851.00.\\nSilver bulls' next upside price objective is closing prices above solid technical resistance at $25.00 an ounce.\\nCopper bulls' next upside price objective is pushing and closing prices above solid technical resistance at the September high of 312.10 cents.\""
      ]
     },
     "metadata": {},
     "execution_count": 100
    }
   ],
   "source": [
    "article.summary"
   ]
  },
  {
   "cell_type": "code",
   "execution_count": 106,
   "metadata": {},
   "outputs": [
    {
     "output_type": "execute_result",
     "data": {
      "text/plain": [
       "str"
      ]
     },
     "metadata": {},
     "execution_count": 106
    }
   ],
   "source": [
    "type(article.summary)"
   ]
  },
  {
   "cell_type": "code",
   "execution_count": 105,
   "metadata": {},
   "outputs": [
    {
     "output_type": "execute_result",
     "data": {
      "text/plain": [
       "{'bulls': 1,\n",
       " 'cents': 1,\n",
       " 'minutes': 1,\n",
       " 'silver': 1,\n",
       " 'technical': 1,\n",
       " 'high': 1,\n",
       " 'support': 1,\n",
       " 'ahead': 1,\n",
       " 'gold': 1,\n",
       " 'price': 1,\n",
       " 'stabilize': 1,\n",
       " 'solid': 1,\n",
       " 'prices': 1,\n",
       " 'futures': 1,\n",
       " 'markets': 1,\n",
       " 'resistance': 1,\n",
       " 'fomc': 1,\n",
       " 'market': 1}"
      ]
     },
     "metadata": {},
     "execution_count": 105
    }
   ],
   "source": [
    "keywords = {}\n",
    "for i in article.keywords:\n",
    "    if i in keywords:\n",
    "        keywords[i] += 1\n",
    "    else:\n",
    "        keywords[i] = 1\n",
    "keywords"
   ]
  },
  {
   "cell_type": "code",
   "execution_count": 25,
   "metadata": {},
   "outputs": [
    {
     "output_type": "execute_result",
     "data": {
      "text/plain": [
       "WindowsPath('e:/Study/FastAI/Text Classifier')"
      ]
     },
     "metadata": {},
     "execution_count": 25
    }
   ],
   "source": [
    "import pathlib\n",
    "import os\n",
    "import re\n",
    "pathlib.Path().parent.absolute()"
   ]
  },
  {
   "cell_type": "code",
   "execution_count": 142,
   "metadata": {},
   "outputs": [
    {
     "output_type": "execute_result",
     "data": {
      "text/plain": [
       "'999'"
      ]
     },
     "metadata": {},
     "execution_count": 142
    }
   ],
   "source": [
    "re.search(r\"([\\d]+)\",max(os.listdir('to_classify'))).group(0)\n"
   ]
  },
  {
   "cell_type": "code",
   "execution_count": 145,
   "metadata": {},
   "outputs": [],
   "source": [
    "if not os.listdir('to_classify'):\n",
    "    name = 0\n",
    "else:\n",
    "    name = int(re.search(r\"([\\d]+)\",max(os.listdir('to_classify'))).group(0)) + 1\n",
    "text_file = open(f\"to_classify/{name}.txt\", \"w\")\n",
    "text_file.write(article.summary)\n",
    "text_file.close()"
   ]
  },
  {
   "cell_type": "code",
   "execution_count": 154,
   "metadata": {},
   "outputs": [],
   "source": [
    "with open('keywords.txt', 'w') as f:\n",
    "    print(keywords, file=f)"
   ]
  },
  {
   "cell_type": "code",
   "execution_count": 155,
   "metadata": {},
   "outputs": [],
   "source": [
    "keywords.close()"
   ]
  },
  {
   "cell_type": "code",
   "execution_count": 28,
   "metadata": {},
   "outputs": [],
   "source": [
    "import time"
   ]
  },
  {
   "cell_type": "code",
   "execution_count": 30,
   "metadata": {},
   "outputs": [
    {
     "output_type": "error",
     "ename": "ArticleException",
     "evalue": "Article `download()` failed with ('Connection aborted.', ConnectionResetError(10054, 'Eine vorhandene Verbindung wurde vom Remotehost geschlossen', None, 10054, None)) on URL https://news.google.com/__i/rss/rd/articles/CBMiaWh0dHBzOi8vd3d3LmNubi5jb20vMjAyMC8xMC8wNy9ldXJvcGUvZXVyb3Blcy1nb2xkLXN0YW5kYXJkLWNvdW50cmllcy1zdHJ1Z2dsaW5nLWFuYWx5c2lzLWludGwvaW5kZXguaHRtbNIBbWh0dHBzOi8vYW1wLmNubi5jb20vY25uLzIwMjAvMTAvMDcvZXVyb3BlL2V1cm9wZXMtZ29sZC1zdGFuZGFyZC1jb3VudHJpZXMtc3RydWdnbGluZy1hbmFseXNpcy1pbnRsL2luZGV4Lmh0bWw?oc=5",
     "traceback": [
      "\u001b[1;31m---------------------------------------------------------------------------\u001b[0m",
      "\u001b[1;31mArticleException\u001b[0m                          Traceback (most recent call last)",
      "\u001b[1;32m<ipython-input-30-5a4138db2e5c>\u001b[0m in \u001b[0;36m<module>\u001b[1;34m\u001b[0m\n\u001b[0;32m      8\u001b[0m         \u001b[1;32mcontinue\u001b[0m\u001b[1;33m\u001b[0m\u001b[1;33m\u001b[0m\u001b[0m\n\u001b[0;32m      9\u001b[0m     \u001b[0marticle\u001b[0m\u001b[1;33m.\u001b[0m\u001b[0mhtml\u001b[0m\u001b[1;33m\u001b[0m\u001b[1;33m\u001b[0m\u001b[0m\n\u001b[1;32m---> 10\u001b[1;33m     \u001b[0marticle\u001b[0m\u001b[1;33m.\u001b[0m\u001b[0mparse\u001b[0m\u001b[1;33m(\u001b[0m\u001b[1;33m)\u001b[0m\u001b[1;33m\u001b[0m\u001b[1;33m\u001b[0m\u001b[0m\n\u001b[0m\u001b[0;32m     11\u001b[0m     \u001b[0marticle\u001b[0m\u001b[1;33m.\u001b[0m\u001b[0mnlp\u001b[0m\u001b[1;33m(\u001b[0m\u001b[1;33m)\u001b[0m\u001b[1;33m\u001b[0m\u001b[1;33m\u001b[0m\u001b[0m\n\u001b[0;32m     12\u001b[0m     \u001b[0marticle\u001b[0m\u001b[1;33m.\u001b[0m\u001b[0mkeywords\u001b[0m\u001b[1;33m\u001b[0m\u001b[1;33m\u001b[0m\u001b[0m\n",
      "\u001b[1;32m~\\AppData\\Local\\Programs\\Python\\Python38\\lib\\site-packages\\newspaper\\article.py\u001b[0m in \u001b[0;36mparse\u001b[1;34m(self)\u001b[0m\n\u001b[0;32m    189\u001b[0m \u001b[1;33m\u001b[0m\u001b[0m\n\u001b[0;32m    190\u001b[0m     \u001b[1;32mdef\u001b[0m \u001b[0mparse\u001b[0m\u001b[1;33m(\u001b[0m\u001b[0mself\u001b[0m\u001b[1;33m)\u001b[0m\u001b[1;33m:\u001b[0m\u001b[1;33m\u001b[0m\u001b[1;33m\u001b[0m\u001b[0m\n\u001b[1;32m--> 191\u001b[1;33m         \u001b[0mself\u001b[0m\u001b[1;33m.\u001b[0m\u001b[0mthrow_if_not_downloaded_verbose\u001b[0m\u001b[1;33m(\u001b[0m\u001b[1;33m)\u001b[0m\u001b[1;33m\u001b[0m\u001b[1;33m\u001b[0m\u001b[0m\n\u001b[0m\u001b[0;32m    192\u001b[0m \u001b[1;33m\u001b[0m\u001b[0m\n\u001b[0;32m    193\u001b[0m         \u001b[0mself\u001b[0m\u001b[1;33m.\u001b[0m\u001b[0mdoc\u001b[0m \u001b[1;33m=\u001b[0m \u001b[0mself\u001b[0m\u001b[1;33m.\u001b[0m\u001b[0mconfig\u001b[0m\u001b[1;33m.\u001b[0m\u001b[0mget_parser\u001b[0m\u001b[1;33m(\u001b[0m\u001b[1;33m)\u001b[0m\u001b[1;33m.\u001b[0m\u001b[0mfromstring\u001b[0m\u001b[1;33m(\u001b[0m\u001b[0mself\u001b[0m\u001b[1;33m.\u001b[0m\u001b[0mhtml\u001b[0m\u001b[1;33m)\u001b[0m\u001b[1;33m\u001b[0m\u001b[1;33m\u001b[0m\u001b[0m\n",
      "\u001b[1;32m~\\AppData\\Local\\Programs\\Python\\Python38\\lib\\site-packages\\newspaper\\article.py\u001b[0m in \u001b[0;36mthrow_if_not_downloaded_verbose\u001b[1;34m(self)\u001b[0m\n\u001b[0;32m    529\u001b[0m             \u001b[1;32mraise\u001b[0m \u001b[0mArticleException\u001b[0m\u001b[1;33m(\u001b[0m\u001b[1;34m'You must `download()` an article first!'\u001b[0m\u001b[1;33m)\u001b[0m\u001b[1;33m\u001b[0m\u001b[1;33m\u001b[0m\u001b[0m\n\u001b[0;32m    530\u001b[0m         \u001b[1;32melif\u001b[0m \u001b[0mself\u001b[0m\u001b[1;33m.\u001b[0m\u001b[0mdownload_state\u001b[0m \u001b[1;33m==\u001b[0m \u001b[0mArticleDownloadState\u001b[0m\u001b[1;33m.\u001b[0m\u001b[0mFAILED_RESPONSE\u001b[0m\u001b[1;33m:\u001b[0m\u001b[1;33m\u001b[0m\u001b[1;33m\u001b[0m\u001b[0m\n\u001b[1;32m--> 531\u001b[1;33m             raise ArticleException('Article `download()` failed with %s on URL %s' %\n\u001b[0m\u001b[0;32m    532\u001b[0m                   (self.download_exception_msg, self.url))\n\u001b[0;32m    533\u001b[0m \u001b[1;33m\u001b[0m\u001b[0m\n",
      "\u001b[1;31mArticleException\u001b[0m: Article `download()` failed with ('Connection aborted.', ConnectionResetError(10054, 'Eine vorhandene Verbindung wurde vom Remotehost geschlossen', None, 10054, None)) on URL https://news.google.com/__i/rss/rd/articles/CBMiaWh0dHBzOi8vd3d3LmNubi5jb20vMjAyMC8xMC8wNy9ldXJvcGUvZXVyb3Blcy1nb2xkLXN0YW5kYXJkLWNvdW50cmllcy1zdHJ1Z2dsaW5nLWFuYWx5c2lzLWludGwvaW5kZXguaHRtbNIBbWh0dHBzOi8vYW1wLmNubi5jb20vY25uLzIwMjAvMTAvMDcvZXVyb3BlL2V1cm9wZXMtZ29sZC1zdGFuZGFyZC1jb3VudHJpZXMtc3RydWdnbGluZy1hbmFseXNpcy1pbnRsL2luZGV4Lmh0bWw?oc=5"
     ]
    }
   ],
   "source": [
    "keywords = {}\n",
    "for url in gold[\"link\"]:\n",
    "    time.sleep(1.0)     #sleep between downloads, otherwise server thinks its an DoS attack due to the many get requests\n",
    "    article = Article(url)\n",
    "    try:\n",
    "        article.download()\n",
    "    except:\n",
    "        continue\n",
    "    article.html\n",
    "    article.parse()\n",
    "    article.nlp()\n",
    "    article.keywords\n",
    "\n",
    "    if not os.listdir('to_classify'):\n",
    "        #if folder is empty\n",
    "        name = 0\n",
    "    else:\n",
    "        #for every item in the folder -> extract the digits using re.search -> convert the result to int and append using list comprehension -> find max\n",
    "        name = max([int(re.search(r\"([\\d]+)\", i).group(0)) for i in os.listdir('to_classify')]) + 1 \n",
    "\n",
    "    text_file = open(f\"to_classify/{name}.txt\", \"w\")\n",
    "    text_file.write(article.summary)\n",
    "    text_file.close()\n",
    "    text_file = open(f\"to_classify/full{name}.txt\", \"w\")\n",
    "    text_file.write(article.text)\n",
    "    text_file.close()\n",
    "\n",
    "    for i in article.keywords:\n",
    "        if i in keywords:\n",
    "            keywords[i] += 1\n",
    "        else:\n",
    "            keywords[i] = 1"
   ]
  },
  {
   "cell_type": "code",
   "execution_count": 32,
   "metadata": {},
   "outputs": [],
   "source": [
    "keywords = {'bulls': 1,\n",
    " 'cents': 1,\n",
    " 'minutes': 1,\n",
    " 'silver': 1,\n",
    " 'technical': 1,\n",
    " 'high': 1,\n",
    " 'support': 1,\n",
    " 'ahead': 1,\n",
    " 'gold': 1,\n",
    " 'price': 1,\n",
    " 'stabilize': 1,\n",
    " 'solid': 1,\n",
    " 'prices': 1,\n",
    " 'futures': 1,\n",
    " 'markets': 1,\n",
    " 'resistance': 1,\n",
    " 'fomc': 1,\n",
    " 'market': 1}"
   ]
  },
  {
   "cell_type": "code",
   "execution_count": 33,
   "metadata": {},
   "outputs": [
    {
     "output_type": "execute_result",
     "data": {
      "text/plain": [
       "{'bulls': 1,\n",
       " 'cents': 1,\n",
       " 'minutes': 1,\n",
       " 'silver': 1,\n",
       " 'technical': 1,\n",
       " 'high': 1,\n",
       " 'support': 1,\n",
       " 'ahead': 1,\n",
       " 'gold': 1,\n",
       " 'price': 1,\n",
       " 'stabilize': 1,\n",
       " 'solid': 1,\n",
       " 'prices': 1,\n",
       " 'futures': 1,\n",
       " 'markets': 1,\n",
       " 'resistance': 1,\n",
       " 'fomc': 1,\n",
       " 'market': 1}"
      ]
     },
     "metadata": {},
     "execution_count": 33
    }
   ],
   "source": [
    "keywords"
   ]
  },
  {
   "cell_type": "code",
   "execution_count": 2,
   "metadata": {},
   "outputs": [
    {
     "output_type": "error",
     "ename": "NameError",
     "evalue": "name 'keywords' is not defined",
     "traceback": [
      "\u001b[1;31m---------------------------------------------------------------------------\u001b[0m",
      "\u001b[1;31mNameError\u001b[0m                                 Traceback (most recent call last)",
      "\u001b[1;32m<ipython-input-2-12143d12e3cd>\u001b[0m in \u001b[0;36m<module>\u001b[1;34m\u001b[0m\n\u001b[0;32m      1\u001b[0m \u001b[1;32mimport\u001b[0m \u001b[0mnumpy\u001b[0m \u001b[1;32mas\u001b[0m \u001b[0mnp\u001b[0m\u001b[1;33m\u001b[0m\u001b[1;33m\u001b[0m\u001b[0m\n\u001b[1;32m----> 2\u001b[1;33m \u001b[0mnp\u001b[0m\u001b[1;33m.\u001b[0m\u001b[0msave\u001b[0m\u001b[1;33m(\u001b[0m\u001b[1;34m'keywords.npy'\u001b[0m\u001b[1;33m,\u001b[0m \u001b[0mkeywords\u001b[0m\u001b[1;33m)\u001b[0m\u001b[1;33m\u001b[0m\u001b[1;33m\u001b[0m\u001b[0m\n\u001b[0m",
      "\u001b[1;31mNameError\u001b[0m: name 'keywords' is not defined"
     ]
    }
   ],
   "source": [
    "import numpy as np\n",
    "np.save('keywords.npy', keywords) "
   ]
  },
  {
   "cell_type": "code",
   "execution_count": 48,
   "metadata": {},
   "outputs": [],
   "source": [
    "read_dictionary = np.load('keywords.npy',allow_pickle='TRUE').item()"
   ]
  },
  {
   "cell_type": "code",
   "execution_count": 49,
   "metadata": {},
   "outputs": [
    {
     "output_type": "execute_result",
     "data": {
      "text/plain": [
       "{'bulls': 1,\n",
       " 'cents': 1,\n",
       " 'minutes': 1,\n",
       " 'silver': 1,\n",
       " 'technical': 1,\n",
       " 'high': 1,\n",
       " 'support': 1,\n",
       " 'ahead': 1,\n",
       " 'gold': 1,\n",
       " 'price': 1,\n",
       " 'stabilize': 1,\n",
       " 'solid': 1,\n",
       " 'prices': 1,\n",
       " 'futures': 1,\n",
       " 'markets': 1,\n",
       " 'resistance': 1,\n",
       " 'fomc': 1,\n",
       " 'market': 1}"
      ]
     },
     "metadata": {},
     "execution_count": 49
    }
   ],
   "source": [
    "read_dictionary"
   ]
  },
  {
   "cell_type": "code",
   "execution_count": 46,
   "metadata": {},
   "outputs": [
    {
     "output_type": "error",
     "ename": "TypeError",
     "evalue": "'<' not supported between instances of 'NoneType' and 'NoneType'",
     "traceback": [
      "\u001b[1;31m---------------------------------------------------------------------------\u001b[0m",
      "\u001b[1;31mTypeError\u001b[0m                                 Traceback (most recent call last)",
      "\u001b[1;32m<ipython-input-46-d432c2cf35ae>\u001b[0m in \u001b[0;36m<module>\u001b[1;34m\u001b[0m\n\u001b[0;32m      1\u001b[0m \u001b[1;31m#top 5 keywords\u001b[0m\u001b[1;33m\u001b[0m\u001b[1;33m\u001b[0m\u001b[1;33m\u001b[0m\u001b[0m\n\u001b[1;32m----> 2\u001b[1;33m \u001b[0msorted\u001b[0m\u001b[1;33m(\u001b[0m\u001b[0mread_dictionary\u001b[0m\u001b[1;33m.\u001b[0m\u001b[0mitems\u001b[0m\u001b[1;33m(\u001b[0m\u001b[1;33m)\u001b[0m\u001b[1;33m,\u001b[0m \u001b[0mkey\u001b[0m\u001b[1;33m=\u001b[0m\u001b[0mread_dictionary\u001b[0m\u001b[1;33m.\u001b[0m\u001b[0mget\u001b[0m\u001b[1;33m,\u001b[0m \u001b[0mreverse\u001b[0m\u001b[1;33m=\u001b[0m\u001b[1;32mTrue\u001b[0m\u001b[1;33m)\u001b[0m\u001b[1;33m[\u001b[0m\u001b[1;33m:\u001b[0m\u001b[1;36m5\u001b[0m\u001b[1;33m]\u001b[0m\u001b[1;33m\u001b[0m\u001b[1;33m\u001b[0m\u001b[0m\n\u001b[0m",
      "\u001b[1;31mTypeError\u001b[0m: '<' not supported between instances of 'NoneType' and 'NoneType'"
     ]
    }
   ],
   "source": [
    "#top 5 keywords\n",
    "sorted(read_dictionary, key=read_dictionary.get, reverse=True)[:5]"
   ]
  },
  {
   "cell_type": "code",
   "execution_count": 47,
   "metadata": {},
   "outputs": [
    {
     "output_type": "execute_result",
     "data": {
      "text/plain": [
       "[('market', 5), ('futures', 4), ('gold', 3), ('price', 2), ('bulls', 1)]"
      ]
     },
     "metadata": {},
     "execution_count": 47
    }
   ],
   "source": [
    "sorted(read_dictionary.items(), key=lambda x: x[1], reverse=True)[:5]"
   ]
  },
  {
   "cell_type": "code",
   "execution_count": 54,
   "metadata": {},
   "outputs": [],
   "source": [
    "with open(\"url_done.txt\",\"w\") as f:\n",
    "    for i in gold[\"link\"]:\n",
    "        f.write(i + \"\\n\")"
   ]
  },
  {
   "cell_type": "code",
   "execution_count": 64,
   "metadata": {},
   "outputs": [
    {
     "output_type": "execute_result",
     "data": {
      "text/plain": [
       "['https://news.google.com/__i/rss/rd/articles/CBMiaWh0dHBzOi8vd3d3LmNubi5jb20vMjAyMC8xMC8wNy9ldXJvcGUvZXVyb3Blcy1nb2xkLXN0YW5kYXJkLWNvdW50cmllcy1zdHJ1Z2dsaW5nLWFuYWx5c2lzLWludGwvaW5kZXguaHRtbNIBbWh0dHBzOi8vYW1wLmNubi5jb20vY25uLzIwMjAvMTAvMDcvZXVyb3BlL2V1cm9wZXMtZ29sZC1zdGFuZGFyZC1jb3VudHJpZXMtc3RydWdnbGluZy1hbmFseXNpcy1pbnRsL2luZGV4Lmh0bWw?oc=5',\n",
       " 'https://news.google.com/__i/rss/rd/articles/CBMicGh0dHBzOi8vd3d3Lm5pbmVyc25hdGlvbi5jb20vMjAyMC8xMC84LzIxNTA4MjEzL2dvbGQtc3RhbmRhcmQtd2hhdHMtZ29uZS1yaWdodC1nb25lLXdyb25nLWFuZC13aGF0LXNob3VsZC1jaGFuZ2XSAX1odHRwczovL3d3dy5uaW5lcnNuYXRpb24uY29tL3BsYXRmb3JtL2FtcC8yMDIwLzEwLzgvMjE1MDgyMTMvZ29sZC1zdGFuZGFyZC13aGF0cy1nb25lLXJpZ2h0LWdvbmUtd3JvbmctYW5kLXdoYXQtc2hvdWxkLWNoYW5nZQ?oc=5',\n",
       " 'https://news.google.com/__i/rss/rd/articles/CBMiZGh0dHBzOi8vd3d3LmtpdGNvLmNvbS9uZXdzLzIwMjAtMTAtMDcvR29sZC1zaWx2ZXItYnVsbHMtc3RhYmlsaXplLW1hcmtldHMtYWhlYWQtb2YtRk9NQy1taW51dGVzLmh0bWzSAQA?oc=5',\n",
       " 'https://news.google.com/__i/rss/rd/articles/CBMibmh0dHBzOi8vd3d3LmZ4ZW1waXJlLmNvbS9mb3JlY2FzdHMvYXJ0aWNsZS9nb2xkLXByaWNlLWZvcmVjYXN0LWdvbGQtbWFya2V0cy1jb250aW51ZS10by10cnktdG8tZmlsbC1nYXAtNjc3MDIy0gEA?oc=5',\n",
       " 'https://news.google.com/__i/rss/rd/articles/CBMifmh0dHBzOi8vd3d3LmtpdGNvLmNvbS9uZXdzLzIwMjAtMTAtMDgvR29sZC1wcmljZS1ob2xkaW5nLW9uLXRvLTEtOTAwLWFzLVUtUy13ZWVrbHktam9ibGVzcy1jbGFpbXMtcmlzZS1tb3JlLXRoYW4tZXhwZWN0ZWQuaHRtbNIBAA?oc=5',\n",
       " 'https://news.google.com/__i/rss/rd/articles/CBMihwFodHRwczovL3d3dy5meGVtcGlyZS5jb20vZm9yZWNhc3RzL2FydGljbGUvZ29sZC1wcmljZS1mdXR1cmVzLWdjLXRlY2huaWNhbC1hbmFseXNpcy10cmVuZC1jaGFuZ2VzLXRvLXVwLW9uLXRyYWRlLXRocm91Z2gtMTkyNy0wMC02NzcxMTfSAQA?oc=5',\n",
       " 'https://news.google.com/__i/rss/rd/articles/CBMiPGh0dHBzOi8vd3d3LndlbGxhbmRnb29kLmNvbS9hcmUtYnJlYXN0LXNlbGYtZXhhbXMtZWZmZWN0aXZlL9IBQGh0dHBzOi8vd3d3LndlbGxhbmRnb29kLmNvbS9hcmUtYnJlYXN0LXNlbGYtZXhhbXMtZWZmZWN0aXZlL2FtcC8?oc=5',\n",
       " 'https://news.google.com/__i/rss/rd/articles/CBMidmh0dHBzOi8vd3d3LmtpdGNvLmNvbS9uZXdzLzIwMjAtMTAtMDUvU29tZS1nb2xkLXdpdGgteW91ci1nYXMtYW5kLWdyb2Nlcmllcy1Db3N0Y28tZW50ZXJzLXRoZS1nb2xkLWJ1bGxpb24tbWFya2V0Lmh0bWzSAQA?oc=5',\n",
       " 'https://news.google.com/__i/rss/rd/articles/CBMiPGh0dHBzOi8vd3d3LmJ1bGxpb252YXVsdC5jb20vZ29sZC1uZXdzL2dvbGQtbWFya2V0LTEwMDcyMDIwMtIBAA?oc=5',\n",
       " '10',\n",
       " '11',\n",
       " '12']"
      ]
     },
     "metadata": {},
     "execution_count": 64
    }
   ],
   "source": [
    "with open('url_done.txt') as f:\n",
    "    url_done = f.read().splitlines()\n",
    "url_done"
   ]
  },
  {
   "cell_type": "code",
   "execution_count": 80,
   "metadata": {},
   "outputs": [
    {
     "output_type": "stream",
     "name": "stdout",
     "text": [
      "70\n"
     ]
    }
   ],
   "source": [
    "test = gold[\"link\"]\n",
    "print(len(test))"
   ]
  },
  {
   "cell_type": "code",
   "execution_count": 84,
   "metadata": {},
   "outputs": [],
   "source": [
    "for idx, val in enumerate(gold[\"link\"]):\n",
    "    if val in url_done:\n",
    "        gold[\"link\"].remove(val)\n",
    "len(gold[\"link\"])"
   ]
  },
  {
   "cell_type": "code",
   "execution_count": 85,
   "metadata": {},
   "outputs": [
    {
     "output_type": "execute_result",
     "data": {
      "text/plain": [
       "65"
      ]
     },
     "metadata": {},
     "execution_count": 85
    }
   ],
   "source": [
    "len(gold[\"link\"])"
   ]
  },
  {
   "cell_type": "code",
   "execution_count": 2,
   "metadata": {},
   "outputs": [
    {
     "output_type": "execute_result",
     "data": {
      "text/plain": [
       "[('gold', 920),\n",
       " ('market', 412),\n",
       " ('price', 396),\n",
       " ('prices', 257),\n",
       " ('markets', 168),\n",
       " ('support', 143),\n",
       " ('vaccine', 137),\n",
       " ('stimulus', 134),\n",
       " ('silver', 126),\n",
       " ('dollar', 124),\n",
       " ('week', 116),\n",
       " ('investors', 109),\n",
       " ('stocks', 99),\n",
       " ('analysis', 94),\n",
       " ('trading', 94),\n",
       " ('ounce', 93),\n",
       " ('forecast', 87),\n",
       " ('level', 82),\n",
       " ('technical', 80),\n",
       " ('metals', 78),\n",
       " ('futures', 77),\n",
       " ('inflation', 72),\n",
       " ('continue', 67),\n",
       " ('higher', 67),\n",
       " ('stock', 67),\n",
       " ('report', 64),\n",
       " ('think', 64),\n",
       " ('global', 64),\n",
       " ('high', 63),\n",
       " ('rates', 62),\n",
       " ('low', 58),\n",
       " ('precious', 53),\n",
       " ('analysts', 51),\n",
       " ('going', 50),\n",
       " ('data', 50),\n",
       " ('xauusd', 50),\n",
       " ('buy', 49),\n",
       " ('record', 46),\n",
       " ('risk', 46),\n",
       " ('2021', 45),\n",
       " ('metal', 44),\n",
       " ('target', 44),\n",
       " ('covid19', 44),\n",
       " ('rally', 44),\n",
       " ('weeks', 42),\n",
       " ('economic', 42),\n",
       " ('bitcoin', 40),\n",
       " ('likely', 40),\n",
       " ('weekly', 39),\n",
       " ('biden', 39)]"
      ]
     },
     "metadata": {},
     "execution_count": 2
    }
   ],
   "source": [
    "import numpy as np\n",
    "keywords = np.load('keywords.npy', allow_pickle='TRUE').item()\n",
    "sorted(keywords.items(), key=lambda x: x[1], reverse=True)[:50]"
   ]
  },
  {
   "cell_type": "code",
   "execution_count": 89,
   "metadata": {},
   "outputs": [
    {
     "output_type": "execute_result",
     "data": {
      "text/plain": [
       "list"
      ]
     },
     "metadata": {},
     "execution_count": 89
    }
   ],
   "source": [
    "type(sorted(keywords, key=keywords.get, reverse=True)[:5])"
   ]
  },
  {
   "cell_type": "code",
   "execution_count": 93,
   "metadata": {},
   "outputs": [
    {
     "output_type": "execute_result",
     "data": {
      "text/plain": [
       "dict_keys(['bulls', 'cents', 'minutes', 'technical', 'high', 'support', 'solid', 'futures', 'resistance', 'fomc'])"
      ]
     },
     "metadata": {},
     "execution_count": 93
    }
   ],
   "source": [
    "a = {'bulls': 1,\n",
    " 'cents': 1,\n",
    " 'minutes': 1,\n",
    " 'technical': 1,\n",
    " 'high': 1,\n",
    " 'support': 1,\n",
    " 'solid': 1,\n",
    " 'futures': 1,\n",
    " 'resistance': 1,\n",
    " 'fomc': 1,}\n",
    "a.keys()"
   ]
  },
  {
   "cell_type": "code",
   "execution_count": 94,
   "metadata": {},
   "outputs": [
    {
     "output_type": "stream",
     "name": "stdout",
     "text": [
      "false\n"
     ]
    }
   ],
   "source": [
    "if any(e in sorted(keywords, key=keywords.get, reverse=True)[:5] for e in a.keys()):\n",
    "    print(\"true\")\n",
    "else:\n",
    "    print(\"false\")"
   ]
  },
  {
   "cell_type": "code",
   "execution_count": 92,
   "metadata": {},
   "outputs": [
    {
     "output_type": "execute_result",
     "data": {
      "text/plain": [
       "['gold', 'price', 'standard', 'market', 'prices']"
      ]
     },
     "metadata": {},
     "execution_count": 92
    }
   ],
   "source": [
    "sorted(keywords, key=keywords.get, reverse=True)[:5]"
   ]
  },
  {
   "cell_type": "code",
   "execution_count": 62,
   "metadata": {},
   "outputs": [
    {
     "output_type": "stream",
     "name": "stdout",
     "text": [
      "found articles: 70\narticles with gold: 70\nafter url_done: 51\n"
     ]
    }
   ],
   "source": [
    "import requests\n",
    "import json\n",
    "from newspaper import Article\n",
    "from newspaper import Config\n",
    "import pathlib\n",
    "import os\n",
    "import re\n",
    "import time\n",
    "import numpy as np\n",
    "\n",
    "\n",
    "# user_agent specification. Dont know if it is necessary. Mixed results\n",
    "user_agent = 'Mozilla/5.0 (Macintosh; Intel Mac OS X 10_11_5) AppleWebKit/537.36 (KHTML, like Gecko) Chrome/50.0.2661.102 Safari/537.36'\n",
    "config = Config()\n",
    "config.browser_user_agent = user_agent\n",
    "\n",
    "# extract all URLs from Google topics\n",
    "\n",
    "\n",
    "def extract_news2():\n",
    "    url = \"https://google-news.p.rapidapi.com/v1/topic_headlines\"\n",
    "    querystring = {\n",
    "        \"lang\": \"en\", \"topic\": \"CAAqJAgKIh5DQkFTRUFvS0wyMHZNREkxY25NeWVoSUNaVzRvQUFQAQ\"}  # the long topic alphanumerical code stands for \"gold\"\n",
    "    headers = {\n",
    "        'x-rapidapi-host': \"google-news.p.rapidapi.com\",\n",
    "        'x-rapidapi-key': \"ec7cf83d7amsh28327258127105bp16fa52jsn9cf67d1e4463\"\n",
    "    }\n",
    "    response = requests.request(\n",
    "        \"GET\", url, headers=headers, params=querystring)\n",
    "    json_d = response.json()\n",
    "    return json_d\n",
    "\n",
    "\n",
    "json_d = extract_news2()\n",
    "print(\"found articles:\", len(json_d[\"articles\"]))\n",
    "\n",
    "# create a dictionary will all the titles and links. Append all found articles if they have specific words in their title.\n",
    "gold = {\"title\": [], \"link\": []}\n",
    "for i in json_d[\"articles\"]:\n",
    "    if \"gold\" or \"Gold\" or \"GOLD\" or \"XAU\" in i[\"title\"]:\n",
    "        gold[\"title\"].append(i[\"title\"])\n",
    "        gold[\"link\"].append(i[\"link\"])\n",
    "\n",
    "print(\"articles with gold:\", len(gold[\"link\"]))\n",
    "\n",
    "# load the keywords data into a dictionary. This is done to further reduce articles based on their text content.\n",
    "keywords = np.load('keywords.npy', allow_pickle='TRUE').item()\n",
    "\n",
    "# load the url_done.txt and remove any of the links that have been done before\n",
    "with open('url_done.txt') as f:\n",
    "    url_done = f.read().splitlines()\n",
    "\n",
    "for idx, val in enumerate(gold[\"link\"]):\n",
    "    if val in url_done:\n",
    "        gold[\"link\"].remove(val)\n",
    "print(\"after url_done:\", len(gold[\"link\"]))"
   ]
  },
  {
   "cell_type": "code",
   "execution_count": 63,
   "metadata": {},
   "outputs": [
    {
     "output_type": "stream",
     "name": "stdout",
     "text": [
      "https://news.google.com/__i/rss/rd/articles/CBMiZmh0dHBzOi8vd3d3LmZ4ZW1waXJlLmNvbS9mb3JlY2FzdHMvYXJ0aWNsZS9nb2xkLXByaWNlLWZvcmVjYXN0LWdvbGQtbWFya2V0cy1jb250aW51ZS10by1maWdodC0yLTY3ODAwMtIBAA?oc=5\nhttps://news.google.com/__i/rss/rd/articles/CBMiY2h0dHBzOi8vd3d3LmtpdGNvLmNvbS9uZXdzLzIwMjAtMTAtMTQvQXQtMS05MDAtZ29sZC1pcy1zdGlsbC1jaGVhcC1mb3JtZXItQmVhci1TdGVhcm5zLWFuYWx5c3QuaHRtbNIBAA?oc=5\nhttps://news.google.com/__i/rss/rd/articles/CBMiU2h0dHBzOi8vc2Vla2luZ2FscGhhLmNvbS9hcnRpY2xlLzQzNzkxMjMtZ29sZC1tZXRhbHMtYXJlLWZpbmFsbHktcmVhZHktZm9yLXRha2Utb2Zm0gFXaHR0cHM6Ly9zZWVraW5nYWxwaGEuY29tL2FtcC9hcnRpY2xlLzQzNzkxMjMtZ29sZC1tZXRhbHMtYXJlLWZpbmFsbHktcmVhZHktZm9yLXRha2Utb2Zm?oc=5\nhttps://news.google.com/__i/rss/rd/articles/CBMiZmh0dHBzOi8vd3d3LmtpdGNvLmNvbS9uZXdzLzIwMjAtMTAtMTUvVGhlLWdvbGQtcHJpY2UtaXMtc3ViZHVlZC1haGVhZC1vZi10aGUtRXVyb3BlYW4tbWFya2V0LW9wZW4uaHRtbNIBAA?oc=5\nhttps://news.google.com/__i/rss/rd/articles/CBMiPWh0dHBzOi8vd3d3LmNuYmMuY29tLzIwMjAvMTAvMTUvZ29sZC1tYXJrZXRzLWNvcm9uYXZpcnVzLmh0bWzSAUFodHRwczovL3d3dy5jbmJjLmNvbS9hbXAvMjAyMC8xMC8xNS9nb2xkLW1hcmtldHMtY29yb25hdmlydXMuaHRtbA?oc=5\ndup\nhttps://news.google.com/__i/rss/rd/articles/CBMiVGh0dHBzOi8vd3d3LnJlYWx3aXJlLmNvbS9yZWxlYXNlcy9Kb3NpcC1IZWl0LWFuZC10aGUtR1NCLUdvbGQtU3RhbmRhcmQtaW4tdGhlLWNvc21vc9IBAA?oc=5\nhttps://news.google.com/__i/rss/rd/articles/CBMid2h0dHBzOi8vd3d3LmtpdGNvLmNvbS9uZXdzLzIwMjAtMTAtMTQvRXhwZWN0LXNlaXNtaWMtY2hhbmdlLWFuZC1tYWpvci1tYXJrZXRzLXNlbGwtb2ZmLWFmdGVyLWVsZWN0aW9uLU1hcmstU2tvdXNlbi5odG1s0gEA?oc=5\nhttps://news.google.com/__i/rss/rd/articles/CBMiO2h0dHBzOi8vd3d3LmJ1bGxpb252YXVsdC5jb20vZ29sZC1uZXdzL2dvbGQtcHJpY2UtMTAxMzIwMjAy0gEA?oc=5\nhttps://news.google.com/__i/rss/rd/articles/CBMipAFodHRwczovL3d3dy5wcm5ld3N3aXJlLmNvbS9uZXdzLXJlbGVhc2VzL25ldy1vcmJpcy1pbnRlcm5hdGlvbmFsLXRyYWluaW5nLXRvb2wtc2V0cy1nb2xkLXN0YW5kYXJkLXRvLXByZXBhcmUtb3BodGhhbG1pYy1udXJzZXMtZm9yLXRoZS1vcGVyYXRpbmctcm9vbS0zMDExNTI0OTkuaHRtbNIBAA?oc=5\nhttps://news.google.com/__i/rss/rd/articles/CBMiamh0dHBzOi8vd3d3LmJ1c2luZXNzaW5zaWRlci5jb20vc3RvY2stbWFya2V0LXNpZ25hbC1iaWRlbi1ibHVlLXdhdmUtbGVzcy1jZXJ0YWluLWVsZWN0aW9uLWV2ZXJjb3JlLTIwMjAtMTDSAQA?oc=5\nhttps://news.google.com/__i/rss/rd/articles/CBMiOmh0dHBzOi8vd3d3LmJ1bGxpb252YXVsdC5jb20vZ29sZC1uZXdzL2dvbGQtYmFycy0xMDE0MjAyMDLSAQA?oc=5\ndup\nhttps://news.google.com/__i/rss/rd/articles/CBMidGh0dHBzOi8vd3d3Lm1hcmtldHdhdGNoLmNvbS9zdG9yeS9nb2xkLXByaWNlcy1zbGlwLWJlbG93LTEtOTAwLWxldmVsLWFzLWNvcm9uYXZpcnVzLWxvY2tkb3ducy1nYWluLXN0ZWFtLTExNjAyNzY0NDky0gF4aHR0cHM6Ly93d3cubWFya2V0d2F0Y2guY29tL2FtcC9zdG9yeS9nb2xkLXByaWNlcy1zbGlwLWJlbG93LTEtOTAwLWxldmVsLWFzLWNvcm9uYXZpcnVzLWxvY2tkb3ducy1nYWluLXN0ZWFtLTExNjAyNzY0NDky?oc=5\nhttps://news.google.com/__i/rss/rd/articles/CBMiXGh0dHBzOi8vd3d3Lm55dGltZXMuY29tLzIwMjAvMTAvMTQvc3BvcnRzL3NvY2Nlci9mcmFuY2Utc29jY2VyLWZlZGVyYXRpb24taW52ZXN0aWdhdGlvbi5odG1s0gFgaHR0cHM6Ly93d3cubnl0aW1lcy5jb20vMjAyMC8xMC8xNC9zcG9ydHMvc29jY2VyL2ZyYW5jZS1zb2NjZXItZmVkZXJhdGlvbi1pbnZlc3RpZ2F0aW9uLmFtcC5odG1s?oc=5\nhttps://news.google.com/__i/rss/rd/articles/CBMiWGh0dHBzOi8vd3d3LmZ4c3RyZWV0LmNvbS9uZXdzL2dvbGQtdHVybnMtZmxhdC1ob2xkcy1zdGVhZHktYXJvdW5kLTE5MDAtbWFyay0yMDIwMTAxNTA3NDTSAVxodHRwczovL3d3dy5meHN0cmVldC5jb20vYW1wL25ld3MvZ29sZC10dXJucy1mbGF0LWhvbGRzLXN0ZWFkeS1hcm91bmQtMTkwMC1tYXJrLTIwMjAxMDE1MDc0NA?oc=5\nhttps://news.google.com/__i/rss/rd/articles/CBMiVmh0dHBzOi8vdGhlaGlsbC5jb20vb3Bpbmlvbi93aGl0ZS1ob3VzZS81MjA5NDgtcG9sbC1pbnNwaXJlZC1jb2NraW5lc3MtYW5kLWl0cy1oYXphcmRz0gFaaHR0cHM6Ly90aGVoaWxsLmNvbS9vcGluaW9uL3doaXRlLWhvdXNlLzUyMDk0OC1wb2xsLWluc3BpcmVkLWNvY2tpbmVzcy1hbmQtaXRzLWhhemFyZHM_YW1w?oc=5\ndup\nhttps://news.google.com/__i/rss/rd/articles/CBMimQFodHRwczovL3d3dy5iZW56aW5nYS5jb20vcHJlc3NyZWxlYXNlcy8yMC8xMC9hYzE3OTE1Mzg1L2JlbG1vbnQtaGlnaC1yZXNvbHV0aW9uLW1hZ25ldGljLXN1cnZleS1mdXJ0aGVyLXN1cHBvcnRzLWNvcHBlci1nb2xkLXBvcnBoeXJ5LW1vZGVsLW9uLWNvbWUtYnktY2jSAS1odHRwczovL2FtcC5iZW56aW5nYS5jb20vYW1wL2NvbnRlbnQvMTc5MTUzODU?oc=5\nhttps://news.google.com/__i/rss/rd/articles/CBMieGh0dHBzOi8vd3d3Lm1hcmtldHB1bHNlLmNvbS8yMDIwMTAxNC91cy1jbG9zZS1zdG9ja3MtZHJvcC1iYW5rLWVhcm5pbmdzLXN0aW11bHVzLXN0YWxlbWF0ZS1vaWwtZ29sZC1yYWxseS1zb2Z0ZXItZG9sbGFyL9IBAA?oc=5\nhttps://news.google.com/__i/rss/rd/articles/CBMiOmh0dHBzOi8vc2ltcGxlZmx5aW5nLmNvbS9ib3N0b24tbG9nYW4tYWlycG9ydC1jb3ZpZC10ZXN0cy_SAT5odHRwczovL3NpbXBsZWZseWluZy5jb20vYm9zdG9uLWxvZ2FuLWFpcnBvcnQtY292aWQtdGVzdHMvYW1wLw?oc=5\nhttps://news.google.com/__i/rss/rd/articles/CBMigQFodHRwczovL3d3dy5kZXRyb2l0bmV3cy5jb20vc3RvcnkvbmV3cy9wb2xpdGljcy8yMDIwLzEwLzE0L2h1aXplbmdhLXdlc3QtbWljaGlnYW4tY29uZ3Jlc3NtYW4tdGVzdHMtcG9zaXRpdmUtY292aWQtMTkvMzY1NDI4NjAwMS_SASpodHRwczovL2FtcC5kZXRyb2l0bmV3cy5jb20vYW1wLzM2NTQyODYwMDE?oc=5\nhttps://news.google.com/__i/rss/rd/articles/CBMiS2h0dHBzOi8vY2EuZmluYW5jZS55YWhvby5jb20vbmV3cy9iYXJyaWNrLWdvbGQtcHJvZHVjZWQtMS0xNi0xMTA3MTE4MzQuaHRtbNIBU2h0dHBzOi8vY2EuZmluYW5jZS55YWhvby5jb20vYW1waHRtbC9uZXdzL2JhcnJpY2stZ29sZC1wcm9kdWNlZC0xLTE2LTExMDcxMTgzNC5odG1s?oc=5\nhttps://news.google.com/__i/rss/rd/articles/CBMiYmh0dHBzOi8vd3d3LmZpbnNtZXMuY29tLzIwMjAvMTAvd2h5LWFmcmljYW4taW52ZXN0b3JzLWFyZS1vZmZpY2lhbGx5LWR1bXBpbmctZ29sZC1mb3ItYml0Y29pbi5odG1s0gEA?oc=5\nhttps://news.google.com/__i/rss/rd/articles/CBMiYmh0dHBzOi8vc2VjdXJpdHlib3VsZXZhcmQuY29tLzIwMjAvMTAvdGhlLXBvY2tldC1ndWlkZS1mb3ItaW1wbGVtZW50aW5nLXRoZS1jaXMtc2VjdXJpdHktY29udHJvbHMv0gFmaHR0cHM6Ly9zZWN1cml0eWJvdWxldmFyZC5jb20vMjAyMC8xMC90aGUtcG9ja2V0LWd1aWRlLWZvci1pbXBsZW1lbnRpbmctdGhlLWNpcy1zZWN1cml0eS1jb250cm9scy9hbXAv?oc=5\nhttps://news.google.com/__i/rss/rd/articles/CBMidmh0dHBzOi8vd3d3Lm5hc2RhcS5jb20vYXJ0aWNsZXMvYnJhemlscy1zdGVlcC15aWVsZC1jdXJ2ZS1yZWxhdGVkLXRvLWZpc2NhbC1zaXR1YXRpb24tY2VudHJhbC1iYW5rLWRpcmVjdG9yLTIwMjAtMTAtMTTSAXpodHRwczovL3d3dy5uYXNkYXEuY29tL2FydGljbGVzL2JyYXppbHMtc3RlZXAteWllbGQtY3VydmUtcmVsYXRlZC10by1maXNjYWwtc2l0dWF0aW9uLWNlbnRyYWwtYmFuay1kaXJlY3Rvci0yMDIwLTEwLTE0P2FtcA?oc=5\nhttps://news.google.com/__i/rss/rd/articles/CBMiUWh0dHBzOi8vZmluYW5jZS55YWhvby5jb20vbmV3cy9nbG9iYWwtbWFya2V0cy13b3JsZC1zdG9ja3Mtd2hpcHNhdy0xNTA3NDk1NzcuaHRtbNIBWWh0dHBzOi8vZmluYW5jZS55YWhvby5jb20vYW1waHRtbC9uZXdzL2dsb2JhbC1tYXJrZXRzLXdvcmxkLXN0b2Nrcy13aGlwc2F3LTE1MDc0OTU3Ny5odG1s?oc=5\nhttps://news.google.com/__i/rss/rd/articles/CBMicGh0dHBzOi8vd3d3Lm5ld3NjaWVudGlzdC5jb20vYXJ0aWNsZS8yMjU2OTQyLWV4Y2x1c2l2ZS1jb25jZXJucy1yYWlzZWQtYWJvdXQtdml0YWwtdWstY292aWQtMTktaW5mZWN0aW9uLXN1cnZleS_SAQA?oc=5\nhttps://news.google.com/__i/rss/rd/articles/CBMifGh0dHBzOi8veWFsZWRhaWx5bmV3cy5jb20vYmxvZy8yMDIwLzEwLzE1L3luaGgtdXNlcy1wb3J0YWJsZS1tcmktdG8tZGlhZ25vc2UtYnJhaW4tYWJub3JtYWxpdGllcy1pbi1jcml0aWNhbGx5LWlsbC1wYXRpZW50cy_SAQA?oc=5\nhttps://news.google.com/__i/rss/rd/articles/CBMiY2h0dHBzOi8vd3d3Lm1pbmluZy5jb20vYXJlcy1zdHJhdGVnaWMtbWluaW5nLWFsbG93ZWQtdG8tc3RhcnQtb3BlcmF0aW9ucy1hdC11cy1vbmx5LWZsdW9yc3Bhci1taW5lL9IBAA?oc=5\nhttps://news.google.com/__i/rss/rd/articles/CBMid2h0dHBzOi8vbmV3cy5wc3UuZWR1L3N0b3J5LzYzNTYyOC8yMDIwLzEwLzE0L3Jlc2VhcmNoL2luZXhwZW5zaXZlLWFuZC1yYXBpZC10ZXN0aW5nLWRydWdzLXJlc2lzdGFudC1pbmZlY3Rpb25zLXBvc3NpYmxl0gEA?oc=5\nhttps://news.google.com/__i/rss/rd/articles/CBMiQWh0dHBzOi8vd3d3Lmlubm92YXRvcnNtYWcuY29tL3doeS1idXNpbmVzcy1tdXN0LWJlLWNsaW1hdGUtc21hcnQv0gFFaHR0cHM6Ly93d3cuaW5ub3ZhdG9yc21hZy5jb20vd2h5LWJ1c2luZXNzLW11c3QtYmUtY2xpbWF0ZS1zbWFydC9hbXAv?oc=5\ndup\nhttps://news.google.com/__i/rss/rd/articles/CBMiZGh0dHBzOi8va2Znby5jb20vMjAyMC8xMC8xNC9taW5uZXNvdGEtcmVwb3J0cy0yOS1uZXctY292aWQtZGVhdGhzLWhpZ2hlc3QtbnVtYmVyLXNpbmNlLWVhcmx5LXN1bW1lci_SAQA?oc=5\nhttps://news.google.com/__i/rss/rd/articles/CBMipwFodHRwczovL3d3dy5hdXRvYm9keW5ld3MuY29tL2luZGV4LnBocC9pbmR1c3RyeS1uZXdzL2l0ZW0vMjExNjQtaGVydHotcmFua3Mtbm8tMS1pbi1jdXN0b21lci1zYXRpc2ZhY3Rpb24tZm9yLXJlbnRhbC1jYXJzLWJ5LWotZC1wb3dlci1mb3Itc2Vjb25kLWNvbnNlY3V0aXZlLXllYXIuaHRtbNIBAA?oc=5\nhttps://news.google.com/__i/rss/rd/articles/CBMiY2h0dHBzOi8vd3d3LnBzeWNoaWF0cmljdGltZXMuY29tL3ZpZXcvc2NyZWVuaW5nLWluc3RydW1lbnRzLWRvLXdvcmstYmlwb2xhci1kaXNvcmRlci1ub3QtdGhlbXNlbHZlc9IBAA?oc=5\nhttps://news.google.com/__i/rss/rd/articles/CBMiXGh0dHBzOi8vd3d3Lm9pbGFuZGdhczM2MC5jb20vY2FudWMtcmVwb3J0cy1zaWx2ZXItY29wcGVyLWFuZC1nb2xkLW1ldGFsLXN1aXRlLWF0LXNhbi1qYXZpZXIv0gEA?oc=5\ndup\nhttps://news.google.com/__i/rss/rd/articles/CBMiiwFodHRwczovL2t0dnouY29tL25ld3MvbmF0aW9uYWwtd29ybGQvMjAyMC8xMC8wNy9ldmVuLWV1cm9wZXMtZ29sZC1zdGFuZGFyZC1uYXRpb25zLWFyZS1zdHJ1Z2dsaW5nLXdpdGgtY292aWQtc3VyZ2VzLWFuZC1pdHMtbm90LXdpbnRlci15ZXQv0gEA?oc=5\ndup\ndup\nhttps://news.google.com/__i/rss/rd/articles/CBMibWh0dHBzOi8vd3d3LmtpdGNvLmNvbS9jb21tZW50YXJpZXMvMjAyMC0xMC0xNC9UaGUtdHJlbmQtaGFzLXNoaWZ0ZWQtZG93bi1pbi1wcmVjaW91cy1tZXRhbHMtc2VsbC1yYWxsaWVzLmh0bWzSAQA?oc=5\nhttps://news.google.com/__i/rss/rd/articles/CBMieWh0dHBzOi8vd3d3LnVzYXRvZGF5LmNvbS9zdG9yeS9vcGluaW9uLzIwMjAvMTAvMDMvZG9uYWxkLXRydW1wLWhhcy1jb3ZpZC1zaWduLXBhbmRlbWljLWlzbnQtZ29pbmctYXdheS1jb2x1bW4vMzYwNzQ0NTAwMS_SASdodHRwczovL2FtcC51c2F0b2RheS5jb20vYW1wLzM2MDc0NDUwMDE?oc=5\ndup\n"
     ]
    }
   ],
   "source": [
    "for idx, val in enumerate(gold[\"link\"]):\n",
    "    if val in url_done:\n",
    "        print(\"dup\")\n",
    "        gold[\"link\"].remove(val)\n",
    "    else:\n",
    "        print(val)"
   ]
  },
  {
   "cell_type": "code",
   "execution_count": 65,
   "metadata": {},
   "outputs": [
    {
     "output_type": "stream",
     "name": "stdout",
     "text": [
      "Gold Price Forecast – Gold Markets Continue to Fight\n",
      "At $1,900 gold is still cheap - former Bear Stearns analyst\n",
      "not downloaded\n",
      "The gold price is subdued ahead of the European market open\n",
      "Gold inches down as dollar strengthens on U.S. stimulus delay\n",
      "G999: Josip Heit and the GSB Gold Standard in the cosmos of the blockchain financial industry\n",
      "Gold Price Drops with Stocks as Covid Crisis Worsens, Inflation Stalls, Financial Trouble 'Not Even Started'\n",
      "Gold Bars Back Above $1900 as China Hoards 'Strategic' Resources, Beijing Excludes Mongols from 'Shared Vision for Humanity'\n",
      "Silver Price Forecast – Silver Markets Continue to Find Interest\n",
      "Gold prices slip below $1,900 level as coronavirus lockdowns gain steam\n",
      "US Close- Stocks drop on bank earnings and stimulus stalemate, Oil and Gold rally on softer dollar - MarketPulse\n",
      "Barrick Gold produced 1.16 million ounces of gold in third quarter\n",
      "Why African Investors Are Officially Dumping Gold for Bitcoin\n",
      "GLOBAL MARKETS -World stocks whipsaw on pandemic worries, gold gains\n",
      "Gold and Silver Off 3-Week Highs After ETFs Expand, Platinum Price Slips as Specs Grow Bearish Bets\n",
      "Canuc Reports Silver, Copper and Gold Metal Suite at San Javier\n",
      "Gold price has room to move higher but breakout remains uncertain\n",
      "Even Europe’s gold standard nations are struggling with Covid surges, and it’s not winter yet\n",
      "not downloaded\n",
      "The trend has shifted down in precious metals sell rallies\n",
      "original: 43, actual: 18\n"
     ]
    }
   ],
   "source": [
    "original = 0\n",
    "actual = 0\n",
    "for url in gold[\"link\"]:\n",
    "    article = Article(url)\n",
    "    original += 1\n",
    "    try:\n",
    "        article.download()\n",
    "        article.parse()\n",
    "    except:\n",
    "        print(\"not downloaded\")\n",
    "        continue\n",
    "    article.nlp()\n",
    "    # check if the article has keywords associated with the top 10 keywords related to the subject. Only write if true\n",
    "    #sorted(keywords.items(), key=lambda x: x[1], reverse=True)[:10]      #will return both the key and value\n",
    "    if sum([1 for e in article.keywords if e in sorted(keywords, key=keywords.get, reverse=True)[:10]]) >= 2:\n",
    "        pass\n",
    "    else:\n",
    "        continue\n",
    "    print(article.title)\n",
    "    actual += 1\n",
    "print(\"original: %i, actual: %i\" % (original, actual))"
   ]
  },
  {
   "cell_type": "code",
   "execution_count": 61,
   "metadata": {},
   "outputs": [
    {
     "output_type": "execute_result",
     "data": {
      "text/plain": [
       "['gold', 'price', 'market', 'standard', 'stimulus']"
      ]
     },
     "metadata": {},
     "execution_count": 61
    }
   ],
   "source": [
    "sorted(keywords, key=keywords.get, reverse=True)[:5]"
   ]
  },
  {
   "cell_type": "code",
   "execution_count": null,
   "metadata": {},
   "outputs": [],
   "source": [
    "# download the article, do NLP, get summary and keywords. write in file.\n",
    "for url in gold[\"link\"]:\n",
    "    # sleep between downloads, otherwise server thinks its an DoS attack due to the many get requests\n",
    "    time.sleep(1.0)\n",
    "    article = Article(url)\n",
    "    try:\n",
    "        article.download()\n",
    "        article.parse()\n",
    "    except:\n",
    "        continue\n",
    "    article.nlp()\n",
    "    # check if the article has keywords associated with the top 10 keywords related to the subject. Only write if true\n",
    "    '''\n",
    "    #sorted(keywords.items(), key=lambda x: x[1], reverse=True)[:10]      #will return both the key and value\n",
    "    if any(e in sorted(keywords, key=keywords.get, reverse=True)[:10] for e in a.keys()):\n",
    "        pass\n",
    "    else:\n",
    "        continue\n",
    "    '''\n",
    "    # get file name based on the items in the folder\n",
    "    if not os.listdir('to_classify'):\n",
    "        # if folder is empty\n",
    "        name = 0\n",
    "    else:\n",
    "        # for every item in the folder -> extract the digits using re.search -> convert the result to int and append using list comprehension -> find max\n",
    "        name = max([int(re.search(r\"([\\d]+)\", i).group(0))\n",
    "                    for i in os.listdir('to_classify')]) + 1\n",
    "\n",
    "    # write the article summary in a text file and save in folder using the naming scheme above. The try and except are used to prevent loop stopping due to weird article summary.\n",
    "    try:\n",
    "        text_file = open(f\"to_classify/{name}.txt\", \"w\")\n",
    "        text_file.write(article.summary)\n",
    "        text_file.close()\n",
    "        # save the text for cross-validification of the summary\n",
    "        text_file = open(f\"to_classify/full{name}.txt\", \"w\")\n",
    "        text_file.write(article.text)\n",
    "        text_file.close()\n",
    "    except:\n",
    "        print(\"could not write\", url)\n",
    "        continue\n",
    "\n",
    "    # update the keywords with every iteration/article\n",
    "    for i in article.keywords:\n",
    "        if i in keywords:\n",
    "            keywords[i] += 1\n",
    "        else:\n",
    "            keywords[i] = 1\n",
    "\n",
    "# save the updated keywords after all articles have been done\n",
    "np.save('keywords.npy', keywords)\n",
    "\n",
    "# update the url_done text by appending all the new urls that have been processed.\n",
    "with open(\"url_done.txt\", \"a\") as f:\n",
    "    for i in gold[\"link\"]:\n",
    "        f.write(i + \"\\n\")\n"
   ]
  },
  {
   "cell_type": "code",
   "execution_count": 1,
   "metadata": {},
   "outputs": [
    {
     "output_type": "stream",
     "name": "stdout",
     "text": [
      "2020-11-29 2020-11-30 2020-11-29\n"
     ]
    }
   ],
   "source": [
    "from newspaper import Article\n",
    "from newspaper import Config\n",
    "import datetime\n",
    "\n",
    "today = datetime.datetime.today()\n",
    "yesterday = today - datetime.timedelta(days=1)\n",
    "url=\"https://www.kitco.com/news/2020-11-29/Gold-is-off-more-than-250-from-August-s-record-highs-but-here-s-why-the-bull-run-is-not-over.html\"\n",
    "url2 = \"https://www.fxempire.com/forecasts/article/gold-price-futures-gc-technical-analysis-forecast-weakens-under-1780-50-strengthens-over-1788-10-685697\"\n",
    "article = Article(url)\n",
    "try:\n",
    "    article.download()\n",
    "    article.parse()\n",
    "except:\n",
    "    print(\"could not download or parse\", url)\n",
    "publish_time = article.publish_date\n",
    "print(publish_time.strftime('%Y-%m-%d'), today.strftime('%Y-%m-%d'), yesterday.strftime('%Y-%m-%d'))"
   ]
  },
  {
   "cell_type": "code",
   "execution_count": 92,
   "metadata": {},
   "outputs": [
    {
     "output_type": "stream",
     "name": "stdout",
     "text": [
      "today or yesterday\n"
     ]
    }
   ],
   "source": [
    "if publish_time != None:\n",
    "    if publish_time.strftime('%Y-%m-%d') != today.strftime('%Y-%m-%d') and publish_time.strftime('%Y-%m-%d') != yesterday.strftime('%Y-%m-%d'):\n",
    "        #print(\"today or yesterday\")\n",
    "        print(publish_time)\n",
    "    else:\n",
    "        print(\"today or yesterday\")\n",
    "        #print(publish_time)\n",
    "else:\n",
    "    print(\"none\")"
   ]
  },
  {
   "cell_type": "code",
   "execution_count": 42,
   "metadata": {},
   "outputs": [
    {
     "output_type": "execute_result",
     "data": {
      "text/plain": [
       "'2020-11-29'"
      ]
     },
     "metadata": {},
     "execution_count": 42
    }
   ],
   "source": [
    "#yesterday\n",
    "today = datetime.datetime.today()\n",
    "yesterday = today - datetime.timedelta(days=1)\n",
    "yesterday.strftime('%Y-%m-%d')"
   ]
  },
  {
   "cell_type": "code",
   "execution_count": 36,
   "metadata": {},
   "outputs": [
    {
     "output_type": "stream",
     "name": "stdout",
     "text": [
      "no\n"
     ]
    }
   ],
   "source": [
    "if not publish_time:\n",
    "    print(\"no\")\n",
    "else:\n",
    "    print(publish_time)"
   ]
  },
  {
   "cell_type": "code",
   "execution_count": 94,
   "metadata": {},
   "outputs": [
    {
     "output_type": "execute_result",
     "data": {
      "text/plain": [
       "\"Editor's Note: Get caught up in minutes with our speedy summary of today's must-read news stories and expert opinions that moved the precious metals and financial markets. Sign up here!\\n\\n(Kitco News) Why is gold down more than $250 from its summer record highs, and does it have more to lose? This week’s market rundown will look at why analysts say that the bull run is actually not over.\\n\\nThis week gold dropped below $1,800. There were a few triggers behind that move, including the rally in the stock market, some better-than-expected economic data, and positive vaccine news.\\n\\nBut the majority of analysts Kitco News spoke to this week said that they see gold stabilizing around the $1,800 level and project higher prices next year.\\n\\nAustralia and New Zealand Banking Group (ANZ) said that the vaccine news does not actually change the major drivers that took gold higher this year, citing real interest rates, inflation, and a weaker U.S. dollar as the triggers that will take gold to $2,100 next year. Meanwhile, CIBC said that it expects gold to average $2,300 in 2021.\\n\\nTD Securities described gold’s recent selloff as “misguided,” saying that the whole idea that we will need less stimulus is wrong. The bank also said that it doesn’t see the economy returning to normal any time soon and that the second coronavirus wave will create additional damage as November alone has added about 25% of all U.S. Covid-19 cases since the beginning of the pandemic.\\n\\nSo, are markets underpricing the amount of stimulus that will be needed next year? Especially now that we know Biden’s choice of Janet Yellen as the next Treasury Secretary.\\n\\nAnalysts say that Yellen will be able to work very well with the Fed to stimulate the economy. They also described Yellen as a dovish Federal Reserve chair and as an advocate of spending when necessary.\\n\\nBut of course, not all banks are this positive. For example, the Bank of America reversed its call for $3,000 gold, now saying that it is neutral on the precious metal as it sees gold averaging just above $2,000 next year. Westpac was even more negative on gold, estimating a decline to $1,650 an ounce in the next two years.\\n\\nIn other news, investors were holding their breath as they watched bitcoin almost hit its 2017’s record high of nearly $20,000. But the move suddenly reversed at the end of the week, and bitcoin saw a massive selloff to $16,000 on Thursday. Fears over tighter crypto regulations and profit-taking after the intense rally were cited as the reasons for the drop.\""
      ]
     },
     "metadata": {},
     "execution_count": 94
    }
   ],
   "source": [
    "article.text"
   ]
  },
  {
   "cell_type": "code",
   "execution_count": 98,
   "metadata": {},
   "outputs": [],
   "source": [
    "text_file = open(f\"test.txt\", \"w\")\n",
    "text_file.write(\"%s\\n %s\" % (publish_time, article.text))\n",
    "text_file.close()"
   ]
  },
  {
   "cell_type": "code",
   "execution_count": null,
   "metadata": {},
   "outputs": [],
   "source": []
  }
 ]
}